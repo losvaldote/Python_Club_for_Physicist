{
  "nbformat": 4,
  "nbformat_minor": 0,
  "metadata": {
    "colab": {
      "provenance": [],
      "authorship_tag": "ABX9TyMoxwVnCScPIG80yFGnfaxf",
      "include_colab_link": true
    },
    "kernelspec": {
      "name": "python3",
      "display_name": "Python 3"
    },
    "language_info": {
      "name": "python"
    }
  },
  "cells": [
    {
      "cell_type": "markdown",
      "metadata": {
        "id": "view-in-github",
        "colab_type": "text"
      },
      "source": [
        "<a href=\"https://colab.research.google.com/github/losvaldote/Python_Club_for_Physicist/blob/main/Ejercicio_5_2_Opcional.ipynb\" target=\"_parent\"><img src=\"https://colab.research.google.com/assets/colab-badge.svg\" alt=\"Open In Colab\"/></a>"
      ]
    },
    {
      "cell_type": "markdown",
      "metadata": {
        "id": "WTngFbToq0M1"
      },
      "source": [
        "# **Ejercicio 5 v2**\n",
        "# **Luis Osvaldo Téllez Tovar**"
      ]
    },
    {
      "cell_type": "markdown",
      "metadata": {
        "id": "aDKvjidGe7Pt"
      },
      "source": [
        "## Cosmología.\n",
        "\n",
        "En este ejercicio opcional vamos a resolver el fondo del Universo. Solo daremos una introducción breve al tema para presentar el sistema de ecuaciones diferenciales que debe resolverse. Para más detalles se puede revisar el review **arXiv: 1903.11127** y las referencias en él.\n",
        "\n",
        "Consideramos que se cumple el **principio cosmológico**, es decir, que el Universo a escalas suficientemente grandes es **homogéneo** e **isotrópico**. Donde por **homogéneo** se refiere a que se ve igual en cualquier punto del espacio e **isotrópico** significa que se ve igual en todas direcciones. Para describirlo hacemos uso de la Relatividad General.\n",
        "\n",
        "La métrica que describe a un Universo homogéneo, isotrópico y que está en expansión es la llamada Friedmann-Lemaître-Robertson-Walker (FLRW) dada por:\n",
        "$$ds^2 = dt^2 -a^2(t)\\gamma_{ij}dx^idx^j. $$\n",
        "\n",
        "Donde \n",
        "$$\\gamma_{ij} \\equiv \\delta_{ij} + \\kappa \\frac{x_i x_j}{1 - \\kappa \\left(x_k x^k\\right)}.$$\n",
        "\n",
        "$\\kappa$ es la curvatura del espacio-tiempo, $a(t)$ es el factor de escala del Universo, que solo depende del tiempo y cuyo valor al día de hoy se toma por conveniencia $a(t_0)=1$, y $x^i$ son las coordenadas espaciales.\n",
        "\n",
        "Consideramos que el contenido del Universo puede ser descrito por **fluidos perfectos** cuyo tensor de energía-momento está dado por:\n",
        "$$T_{\\mu \\nu} = (\\rho + P)U_{\\mu}U_{\\nu} - Pg_{\\mu \\nu}.$$\n",
        "\n",
        "Donde $\\rho$ es la densidad de energía, $P$ la presión del fluido y $U_{\\mu}$ es la 4-velocidad relativa al observador. Si tomamos el caso $U^{\\mu} = (1,0,0,0)$ (observador comóvil) el tensor se reduce a:\n",
        "$$T^{\\mu}_{\\nu} = diag(\\rho, -P, -P, -P).$$\n",
        "\n",
        "Combinando las ecuaciones de Einstein, la métrica FLRW y el tensor de fluido perfecto podemos obtener las ecuaciones de Friedmann:\n",
        "\\begin{eqnarray}\n",
        "   H^2 &=& \\left(\\frac{\\dot{a}}{a}\\right)^2 = \\frac{8 \\pi G}{3} \\sum_{i}\\rho_{i} - \\frac{k}{a^2} ,\\\\\n",
        "   \\frac{\\ddot{a}}{a} &=& -\\frac{4 \\pi G}{3} \\sum_{i}\\left(\\rho_i + 3P_i\\right).\n",
        "\\end{eqnarray}\n",
        "Donde $H$ es el factor de Hubble que nos da información sobre la expansión del Universo e $i$ hace referencia a cada componente de él.\n",
        "También tenemos la ecuación de continuidad (una para cada componente) que significa la conservación de la energía.\n",
        "\\begin{eqnarray}\n",
        "\\dot{\\rho} + 3 H \\left(\\rho + P\\right) &=& 0,\\\\\n",
        "\\dot{\\rho} + 3 H\\gamma\\rho &=& 0.\n",
        "\\end{eqnarray}\n",
        "Y para cerrar el sistema de ecuaciones necesitamos una relación entre $\\rho$ y $P$ dada por la ecuación de estado:\n",
        "$$\\omega = \\frac{P}{\\rho}, \\gamma = 1+\\omega.$$\n",
        "Cuyo valor depende de cada componente y que puede ser obtenida a través de física estadística.\n",
        "\n",
        "Las ecuaciones a resolver son las ecuaciones de Friedmann y las ecuaciones de continuidad (una para cada componente)."
      ]
    },
    {
      "cell_type": "markdown",
      "metadata": {
        "id": "3giREyvYnKR0"
      },
      "source": [
        "Para nuestro caso en particular consideraremos que el Universo está compuesto por materia ordinaria (que llamaremos bariones b), materia oscura fría (DM), radiación ($\\gamma$), constante cosmológica ($\\Lambda$) como energía oscura y con curvatura $\\kappa = 0$ (modelo **$\\Lambda$CDM**). Las ecuaciones de estado para cada una de ellas son\n",
        "\\begin{eqnarray}\n",
        "  \\omega_b &=& 0,\\\\\n",
        "  \\omega_{DM} &=& 0,\\\\\n",
        "  \\omega_{\\gamma} &=& 1/3,\\\\\n",
        "  \\omega_{\\Lambda} &=& -1.\n",
        "\\end{eqnarray}\n",
        "\n",
        "Hagamos, por conveniencia, el cambio de variable $\\dot{q} = H q'$ donde $q' = dq/dln(a)$. \n",
        "\n",
        "Para poder resolver el sistema, haremos un cambio de variables de tal forma que el sistema sea adimensional. Usaremos:\n",
        "\\begin{eqnarray}\n",
        "    x^2 &=& \\frac{8\\pi G}{3}\\frac{\\rho_{DM}}{H^2} = \\Omega_{DM},\\\\\n",
        "    z^2 &=& \\frac{8\\pi G}{3}\\frac{\\rho_{\\gamma}}{H^2} = \\Omega_{\\gamma},\\\\\n",
        "    l^2 &=& \\frac{8\\pi G}{3}\\frac{\\rho_{\\Lambda}}{H^2} = \\Omega_{\\Lambda},\\\\\n",
        "    b^2 &=& \\frac{8\\pi G}{3}\\frac{\\rho_{b}}{H^2} = \\Omega_{b}.\n",
        "\\end{eqnarray}\n",
        "Donde las $\\Omega_i$ reciben el nombre de parámetros adimensionales de energía. Estas cantidades representan el porcentaje que cada componente ocupa en el Universo. Son estas cantidades las que suelen reportarse en los artículos del área.\n",
        "\n",
        "Con estos cambios el sistema de ecuaciones a resolver queda como:\n",
        "\\begin{eqnarray}\n",
        "   x'&=&\\frac{3}{2}\\left(\\Pi - 1\\right)x,\\\\\n",
        "   z'&=&\\frac{3}{2}\\left(\\Pi - \\frac{4}{3}\\right)z,\\\\\n",
        "   l'&=&\\frac{3}{2}\\Pi l,\\\\\n",
        "   b'&=&\\frac{3}{2}\\left(\\Pi - 1\\right)b.\\\\\n",
        "\\end{eqnarray}\n",
        "Más las ecuaciones de Friedmann que, con los mismos cambios, quedan como\n",
        "\\begin{eqnarray}\n",
        "  \\frac{H'}{H} &=& -\\frac{3}{2}\\Pi = -\\frac{3}{2}\\left(x^2 + \\frac{4}{3}z^2+ b^2\\right),\\\\\n",
        "  x^2 + z^2 + l^2 + b^2&=&1.\n",
        "\\end{eqnarray}\n",
        "La última expresión se conoce como **Constricción de Friedmann**, aunque no es una ecuación diferencial, su importancia radica en decirnos que la suma de las contribuciones de todas las componentes del Universo en todo momento debe ser uno. Esta puede usarse como una prueba para determinar si los resultados obtenidos son correctos.\n",
        "\n",
        "Podemos ver que el sistema de ecuaciones está acoplado."
      ]
    },
    {
      "cell_type": "code",
      "metadata": {
        "id": "6aC1hPKSs7hd"
      },
      "source": [
        "# Vamos a importar las bibliotecas necesarias.\n",
        "import numpy as np\n",
        "import matplotlib.pyplot as plt"
      ],
      "execution_count": null,
      "outputs": []
    },
    {
      "cell_type": "code",
      "metadata": {
        "id": "KanfQfqZp5Jr"
      },
      "source": [
        "# Definamos las constantes necesarias.\n",
        "cte = 3./2.0\n",
        "\n",
        "NP = 100000 # Numero de pasos.\n",
        "Ni = np.log(1.0e-0) # Punto inicial\n",
        "Nf = np.log(1.0e-6) # Punto final\n",
        "d  = (Nf- Ni)/NP    # Tamanio del paso\n",
        "t = np.array([np.exp(Ni+d*i) for i in np.arange(NP)]) # Nuestra variable tipo x\n",
        "# Aunque se llama t no es el tiempo sino el factor de escala."
      ],
      "execution_count": null,
      "outputs": []
    },
    {
      "cell_type": "code",
      "metadata": {
        "id": "2ZU9HsI0s4xb"
      },
      "source": [
        "def rk4(func, y_0, t, args={}):\n",
        "    # Inicia el arreglo de las aproximaciones\n",
        "    y = np.zeros((4, len(y_0)))\n",
        "    y[0] = y_0\n",
        "    for i, t_i in enumerate(t[:3]):\n",
        "        h = d #t[i+1] - t_i\n",
        "        k_1 = func(t_i, y[i], args)\n",
        "        k_2 = func(t_i+h/2., y[i]+h/2.*k_1, args)\n",
        "        k_3 = func(t_i+h/2., y[i]+h/2.*k_2, args)\n",
        "        k_4 = func(t_i+h, y[i]+h*k_3, args)\n",
        "        \n",
        "        y[i+1] = y[i] + h/6.*(k_1 + 2.*k_2 + 2.*k_3 + k_4) # RK4 step\n",
        "    return y"
      ],
      "execution_count": null,
      "outputs": []
    },
    {
      "cell_type": "markdown",
      "metadata": {
        "id": "4j-Bw21-5qgr"
      },
      "source": [
        "En ocasiones, el método RK4 para resolver ecuaciones diferenciales no es suficiente. Así que suele usarse un complemento a este conocido como método **Adams-Bashforth-Moulton de orden 4** (ABM4) o método de corrector-predictor. \n",
        "\n",
        "Es un método que se usa para aproximar funciones por medio de polinomios. Los métodos de Euler, Taylor y Runge-Kutta , por ejemplo, son métodos de un paso pues para calcular el valor en el punto actual solo se necesita conocer el valor en el último punto anterior. El método ABM se denomina multipaso porque requiere conocer varios valores previos al punto actual antes de calcularlo. Si se consideran tres puntos anteriores entonces el grado del polinomio con que se va a aproximar la función es cuadrático. En este trabajo se utiliza el método ABM4 por lo tanto se necesitan conocer los cuatro primeros pasos y esto dará un polinomio de orden cúbico. Los métodos de Adams se dividen en dos grupos: el de Adams-Bashforth (método explícito) de n pasos y el de Adams-Moulton (método implícito) de n pasos. La idea del primero es usar un polinomio que pase por n puntos. Mientras que la idea del segundo es usar un polinomio que pase por n+1 puntos. Suelen combinarse ambos métodos para tener mejores aproximaciones. La combinación de un método explícito y uno implícito del mismo orden se llama método predictor-corrector.\n",
        "\n",
        "La fórmula predictora (Adams-Bashforth) de cuarto orden es\n",
        "$$y^∗_{i+1}=y_i + \\frac{h}{24}\\left(55f_i - 59f_{i-1} + 37f_{i-2}-9f_{i-3}\\right).$$\n",
        "\n",
        "Y la fórmula correctora (Adams-Moulton) de cuarto orden es\n",
        "$$y_{i+1}=y_i + \\frac{h}{24}\\left(9f^*_{i+1}+19f_i-5f_{i-1}+f_{i-2}\\right).$$\n",
        "\n",
        "Donde f es la función que se desea aproximar, $f_i=f(t_i,y_i)$, $f^*_{i+1}=f\\left(t_{i+1},y^*_{i+1}\\right).$ Primero se usa el predictor y luego el corrector. Como se usó un método de cuarto orden, se necesitan conocer los cuatro primeros valores de la función. Para dicho fin se utiliza el método de Runge-Kutta de cuarto orden.\n"
      ]
    },
    {
      "cell_type": "code",
      "metadata": {
        "id": "Ib-eZvBGJmRh"
      },
      "source": [
        "def ABM4(func, y_0, t, args={}):\n",
        "    y = np.zeros((len(t), len(y_0)))\n",
        "    # Se calcularan los primeros pasos con rk4\n",
        "    y[0:4] = rk4(func,y_0, t)\n",
        "    k_1 = func(t[2], y[2], args)\n",
        "    k_2 = func(t[1], y[1], args)\n",
        "    k_3 = func(t[0], y[0], args)\n",
        "    for i in range(3,NP-1):\n",
        "        h = d\n",
        "        k_4 = k_3\n",
        "        k_3 = k_2\n",
        "        k_2 = k_1\n",
        "        k_1 = func(t[i], y[i], args)\n",
        "        #Adams Bashforth predictor\n",
        "        y[i+1] = y[i] + h*(55.*k_1 - 59.*k_2 + 37.*k_3 - 9.*k_4)/24.\n",
        "        k_0 = func(t[i+1],y[i+1])\n",
        "        #Adams Moulton corrector\n",
        "        y[i+1] = y[i] + h*(9.*k_0 + 19.*k_1 - 5.*k_2 + k_3)/24.\n",
        "    return y "
      ],
      "execution_count": null,
      "outputs": []
    },
    {
      "cell_type": "markdown",
      "metadata": {
        "id": "EpRLUim09HwC"
      },
      "source": [
        "En la siguiente función están definidas las ecuaciones diferenciales a resolver. Estas corresponden a las mostradas arriba."
      ]
    },
    {
      "cell_type": "code",
      "metadata": {
        "id": "GTz0HpknFUem"
      },
      "source": [
        "def RHS(t, y, args={}):\n",
        "    # DM, Radiacion, DE, H, bariones\n",
        "    x0, x1, x2, x3, x4 = y\n",
        "    Pe = x0*x0+4.0*x1*x1/3.0+x4*x4\n",
        "    return np.array([cte*(Pe - 1.0)*x0, cte*(Pe-(4.0/3.0))*x1, cte*Pe*x2, -cte*Pe, cte*(Pe - 1.0)*x4])"
      ],
      "execution_count": null,
      "outputs": []
    },
    {
      "cell_type": "markdown",
      "metadata": {
        "id": "hP1pxc4f9Upv"
      },
      "source": [
        "Definamos la función para resolver las ecuaciones diferenciales. En ellas y0 representa las condiciones iniciales, es decir, la contribución de cada componente al día de hoy. Estos valores fueron obtenidos del artículo de Planck 18 arXiv: 1807.06209:\n",
        "\\begin{eqnarray}\n",
        "  \\Omega_{DM} &=& x^2 = 0.264,\\\\\n",
        "  \\Omega_{\\gamma} &=& z^2 = 0.000043, \\\\\n",
        "  H_0 &=& 67.4 kms^{−1}Mpc^{−1},\\\\\n",
        "  \\Omega_b &=& b^2 = 0.049.\n",
        "\\end{eqnarray}\n",
        "\n",
        "La condición inicial para la energía oscura puede deducirse de la contricción de Friedmann:\n",
        "$$\\Omega_{\\Lambda} = l^2 = 1-x^2-z^2-b^2.$$"
      ]
    },
    {
      "cell_type": "code",
      "metadata": {
        "id": "C-yy2vPHtURw"
      },
      "source": [
        "def solver():\n",
        "    # y0 = (materia oscura, radiacion, energia oscura, H, bariones)\n",
        "    y0       = np.array([np.sqrt(0.264), np.sqrt(0.000043), np.sqrt(1-0.264-0.000043-0.049), 67.4, np.sqrt(0.049)])\n",
        "    y_result = ABM4(RHS, y0, t)\n",
        "    return y_result"
      ],
      "execution_count": null,
      "outputs": []
    },
    {
      "cell_type": "markdown",
      "metadata": {
        "id": "omKUqwPj9xc9"
      },
      "source": [
        "A continuación haremos la gráfica."
      ]
    },
    {
      "cell_type": "code",
      "metadata": {
        "colab": {
          "base_uri": "https://localhost:8080/",
          "height": 618
        },
        "id": "Jbyo-kP906Jl",
        "outputId": "21314a3f-d5ed-4aa3-aac4-df20fc1f4a68"
      },
      "source": [
        "x, z, l, H, b = solver().T\n",
        "\n",
        "fig = plt.figure(figsize=(9,10))\n",
        "\n",
        "plt.semilogx(t, x*x, 'black', label = '$\\Omega_{cdm}$') # Materia oscura\n",
        "plt.semilogx(t, z*z, 'blue', label = '$\\Omega_{\\gamma}$')  # Radiacion\n",
        "plt.semilogx(t, l*l, 'red', label = '$\\Omega_{\\Lambda}$')   # Energia oscura\n",
        "plt.semilogx(t, b*b, 'green', label = '$\\Omega_b$') # Bariones\n",
        "plt.semilogx(t, x*x+z*z+l*l+b*b, label = 'Constricción de Friedmann') # Constricción de Friedmann\n",
        "plt.xlabel('$a$', fontsize=20)\n",
        "plt.ylabel('$\\Omega(a)$', fontsize=20) #original\n",
        "plt.legend(loc = 'best', fontsize = 'x-large')\n",
        "\n",
        "plt.show()\n",
        "\n"
      ],
      "execution_count": null,
      "outputs": [
        {
          "output_type": "display_data",
          "data": {
            "image/png": "[encoded data removed]",
            "text/plain": [
              "<Figure size 648x720 with 1 Axes>"
            ]
          },
          "metadata": {
            "tags": [],
            "needs_background": "light"
          }
        }
      ]
    },
    {
      "cell_type": "markdown",
      "metadata": {
        "id": "53MQMeAV94Fq"
      },
      "source": [
        "De la gráfica podemos estudiar la evolución del fondo (o background) del Universo. Cuando $a = 1$ significa que estamos en el día de hoy mientras que si $a$ se vuelve pequeño estamos viendo el pasado. Sabemos, de las observaciones, que en la actualidad la componente que domina es la energía oscura y esto puede verse en la gráfica pues cuando $a=1$ la línea roja que representa a la energía oscura es la que tiene un mayor valor seguida por la líneas negra (Materia Oscura), la línea verde (bariones o materia ordinaria) y la línea azul (fotones y partículas relativistas). La pequeña contribución de la línea azul al día de hoy corresponde al Fondo Cósmico de Microondas. Vemos que la suma de todas ellas es uno cumpliendo así con la constricción de Friedmann. Es así como se construye el famoso pay cósmico.\n",
        "\n",
        "Si viajamos al pasado (de derecha a izquierda) veremos algunas épocas interesantes. Cuando la línea roja y la línea negra se cortan significa que la energía oscura y la materia oscura tenían la misma contribución. Seguida por una época en que la materia oscura domina y tanto la energía oscura como la radiación están suprimidas. Posteriormente vemos que la línea negra va decreciendo, es decir, la materia oscura contribuye menos mientras que la línea azul comienza a crecer hasta el punto en que se cortan, a esta época se le llama igualdad de materia-radiación. Y viene seguida por la época en que domina la radiación y todas las demás componentes quedan suprimidas.\n",
        "\n",
        "Podemos notar que en todo momento se cumple la constricción de Friedmann lo cual es prueba de que nuestro sistema se ha resuelto correctamente."
      ]
    }
  ]
}