{
  "nbformat": 4,
  "nbformat_minor": 0,
  "metadata": {
    "colab": {
      "provenance": [],
      "authorship_tag": "ABX9TyPMwWQPiIWMCDlR7t5dUY4O",
      "include_colab_link": true
    },
    "kernelspec": {
      "name": "python3",
      "display_name": "Python 3"
    },
    "language_info": {
      "name": "python"
    }
  },
  "cells": [
    {
      "cell_type": "markdown",
      "metadata": {
        "id": "view-in-github",
        "colab_type": "text"
      },
      "source": [
        "<a href=\"https://colab.research.google.com/github/losvaldote/Python_Club_for_Physicist/blob/main/Ejercicio_1.ipynb\" target=\"_parent\"><img src=\"https://colab.research.google.com/assets/colab-badge.svg\" alt=\"Open In Colab\"/></a>"
      ]
    },
    {
      "cell_type": "markdown",
      "metadata": {
        "id": "6BhA2xE3gXCj"
      },
      "source": [
        "# **Ejercicio 1 v1**\n",
        "# **Luis Osvaldo Téllez Tovar**"
      ]
    },
    {
      "cell_type": "markdown",
      "metadata": {
        "id": "Jx8c2mSfgago"
      },
      "source": [
        "## a) Definir y utilizar tres métodos.\n"
      ]
    },
    {
      "cell_type": "code",
      "metadata": {
        "id": "bJANGX5IhxTG"
      },
      "source": [
        "# Vamos a importar la biblioteca numpy.\n",
        "import numpy as np"
      ],
      "execution_count": null,
      "outputs": []
    },
    {
      "cell_type": "markdown",
      "metadata": {
        "id": "gsx3bNJhg-7t"
      },
      "source": [
        "**Método de bisección.**\n",
        "\n",
        "La ecuación que queremos resolver es $$f(E) = 1 + 0.0167\\sin(E) - E = 0.$$\n",
        "\n",
        "Para aplicar el método de bisección necesitamos conocer un intervalo $[a,b]$ tal que se cumpla $f(a)f(b)< 0$.\n",
        "\n",
        "Para hallar dicho intervalo consideremos, como primer aproximación, el primer término en la expansión en serie del $\\sin(E)$. Esto es \n",
        "\\begin{eqnarray}\n",
        "    f(E) &=& 1 + 0.0167E - E\\\\\n",
        "         &=& 1 + (0.0167-1)E\\\\\n",
        "         &=& 1 -  0.9833E\n",
        "\\end{eqnarray}\n",
        "Igualamos la expresión anterior con cero y resolvemos para $E$\n",
        "\\begin{eqnarray}\n",
        "    1 -  0.9833E &=& 0\\\\\n",
        "    0.9833E &=& 1\\\\\n",
        "    E&=&\\frac{1}{0.9833}\\\\\n",
        "    E&=&1.01\n",
        "\\end{eqnarray}\n",
        "\n",
        "Con lo anterior proponemos el intervalo $[-3,3]$. Veamos \n",
        "\\begin{eqnarray}\n",
        "    f(-3) &=& 1 + 0.0167\\sin(-3) - (-3)\\\\\n",
        "          &\\approx& 3.99,\\\\\n",
        "    f(3) &=& 1 + 0.0167\\sin(3) - (3)\\\\\n",
        "         &\\approx& -1.99.\n",
        "\\end{eqnarray}\n",
        "Se cumple la condición $f(a=-3)f(b=3)< 0$, por lo tanto podemos usar este intervalo para aplicar el método de bisección.\n"
      ]
    },
    {
      "cell_type": "code",
      "metadata": {
        "id": "sEuZclNWqasP"
      },
      "source": [
        "# Definamos el algoritmo del metodo de biseccion.\n",
        "# f   - funcion de la cual queremos hallar su raiz.\n",
        "# a   - limite inferior del intervalo en el que se buscara la solucion.\n",
        "# b   - limite superior del intervalo en el que se buscara la solucion.\n",
        "# tol - tolerancia o error.\n",
        "def biseccion(f, a, b, tol):\n",
        "    \n",
        "    if a > b:\n",
        "        raise ValueError(\"Intervalo mal definido.\")\n",
        "    if tol <= 0:\n",
        "        raise ValueError(\"La cota de error debe ser un número positivo.\")\n",
        "        \n",
        "    x = (a + b) / 2.0\n",
        "    i=1\n",
        "    while True: # Este va a funcionar mientras el if sea cierto.\n",
        "        if b - a < tol:\n",
        "            i+=1\n",
        "            return(x,i)\n",
        "        # Utilizamos la función signo para evitar errores de precision.\n",
        "        elif np.sign(f(a)) * np.sign(f(x)) > 0: \n",
        "            i+=1 # para el contador.\n",
        "            a = x\n",
        "        else:\n",
        "            i+=1\n",
        "            b = x\n",
        "        x = (a + b) / 2.0\n",
        "    return(x,i)\n"
      ],
      "execution_count": null,
      "outputs": []
    },
    {
      "cell_type": "code",
      "metadata": {
        "id": "yoOTxldlgLpR"
      },
      "source": [
        "# Definamos la funcion.\n",
        "def f_E(x):\n",
        "  return(1 + 0.0167*np.sin(x) - x)"
      ],
      "execution_count": null,
      "outputs": []
    },
    {
      "cell_type": "code",
      "metadata": {
        "colab": {
          "base_uri": "https://localhost:8080/"
        },
        "id": "KmEg32giqUqO",
        "outputId": "aa770e5d-3d84-4ae7-9bc5-572f07b412d8"
      },
      "source": [
        "# Resolvamos la ecuacion.\n",
        "a = -3.0\n",
        "b = 3.0\n",
        "tol = 1.0e-8\n",
        "\n",
        "sol1 = biseccion(f_E,a,b,tol)\n",
        "\n",
        "# Imprimamos la solucion.\n",
        "print(\"La solucion por el método de bisección es E = \", sol1[0])"
      ],
      "execution_count": null,
      "outputs": [
        {
          "output_type": "stream",
          "text": [
            "La solucion por el método de bisección es E =  1.0141790891066194\n"
          ],
          "name": "stdout"
        }
      ]
    },
    {
      "cell_type": "markdown",
      "metadata": {
        "id": "4DtY8qeQtY07"
      },
      "source": [
        "**Método de Newton.**\n",
        "\n",
        "Para poder aplicar el método de Newton necesitamos conocer la derivada de la función. Esta es\n",
        "$$f'(E) = 0.0167\\cos(E) -1.$$\n",
        "\n",
        "También necesitamos un valor de prueba $E_0$ en el que $f(E_0)$ no sea muy grande. Por simplicidad y puesto que, por el método de bisección, ya conocemos la raíz de la función proponemos $E_0 = 1$."
      ]
    },
    {
      "cell_type": "code",
      "metadata": {
        "id": "2ncS13aErqyw"
      },
      "source": [
        "# Definamos el algoritmo del metodo de Newton.\n",
        "# f       - funcion de la cual queremos hallar su raiz.\n",
        "# df      - derivada de la funcion.\n",
        "# x_0     - valor de prueba.\n",
        "# maxiter - numero de iteraciones.\n",
        "# xtol    - tolerancia en x.\n",
        "# ftol    - tolerancia en la funcion.\n",
        "\n",
        "def newton(f, df, x_0, maxiter, xtol, ftol):  \n",
        "    x = float(x_0)\n",
        "    for i in range(maxiter):\n",
        "        dx = -f(x) / df(x) # ¡Aquí se puede producir una división por cero!\n",
        "        # También x puede haber quedado fuera del dominio.\n",
        "        x = x + dx\n",
        "        if abs(dx / x) < xtol and abs(f(x)) < ftol:\n",
        "            return x"
      ],
      "execution_count": null,
      "outputs": []
    },
    {
      "cell_type": "code",
      "metadata": {
        "id": "XnvyyOjRxfAL"
      },
      "source": [
        "# Definamos la derivada de la funcion.\n",
        "def df_E(x):\n",
        "  return(0.0167*np.cos(x) - 1)"
      ],
      "execution_count": null,
      "outputs": []
    },
    {
      "cell_type": "code",
      "metadata": {
        "colab": {
          "base_uri": "https://localhost:8080/"
        },
        "id": "5sFegTOIxszV",
        "outputId": "c25dad85-71a5-47d4-d767-9a5ee77dfa42"
      },
      "source": [
        "# Resolvamos la ecuacion.\n",
        "E_0 = 1.0\n",
        "maxiter = 50\n",
        "x_tol = 1.0e-6\n",
        "f_tol = 1.0e-6\n",
        "\n",
        "sol2 = newton(f_E, df_E, E_0, maxiter, x_tol, f_tol)\n",
        "\n",
        "print(\"La solucion por el método de Newton es E = \", sol2)"
      ],
      "execution_count": null,
      "outputs": [
        {
          "output_type": "stream",
          "text": [
            "La solucion por el método de Newton es E =  1.0141790871647136\n"
          ],
          "name": "stdout"
        }
      ]
    },
    {
      "cell_type": "markdown",
      "metadata": {
        "id": "TpKhBsx9ytGW"
      },
      "source": [
        "**Método de la Secante.**\n",
        "\n",
        "Para este método no necesitamos conocer la derivada de la función. Sin embargo, necesitamos dos puntos del dominio de esta. Aunque ya conocemos el valor de la raíz, elijamos un primer valor de prueba un poco más alejado. Por ejemplo $E_1=0$ y $E_2=5.$ "
      ]
    },
    {
      "cell_type": "code",
      "metadata": {
        "id": "ZVbIC6bByXaA"
      },
      "source": [
        "# Definamos el algoritmo del metodo de la Secante.\n",
        "# f   - funcion de la cual queremos hallar su raiz.\n",
        "# x0  - punto 1 del dominio de la funcion.\n",
        "# x1  - punto 2 del dominio de la funcion.\n",
        "# eps - tolerancia.\n",
        "\n",
        "def sec(f, x0, x1, eps): \n",
        "    import sys # biblioteca para poder usar el exit().\n",
        "    global x   # variable global arbitraria.\n",
        "    f_x0 = f(x0)\n",
        "    f_x1 = f(x1)\n",
        "    iteration_counter = 0 # variable auxiliar para while.\n",
        "\n",
        "    while abs(f_x1) > eps and iteration_counter < 50:\n",
        "        try:\n",
        "            denominator = float(f_x1 - f_x0)/(x1 - x0)\n",
        "            x = x1 - float(f_x1)/denominator\n",
        "        except ZeroDivisionError:    # condicion para no dividir entre cero.\n",
        "            print(\"Error! - 0 en el denominador para x = \", x)\n",
        "            sys.exit(1)     # Abort with error sale del ciclo (equiv C++ break)\n",
        "        x0 = x1\n",
        "        x1 = x\n",
        "        f_x0 = f_x1\n",
        "        f_x1 = f(x1)\n",
        "        iteration_counter += 1\n",
        "\n",
        "\n",
        "    if abs(f_x1) > eps:\n",
        "        iteration_counter = -1 # referencial\n",
        "    return x, iteration_counter"
      ],
      "execution_count": null,
      "outputs": []
    },
    {
      "cell_type": "code",
      "metadata": {
        "colab": {
          "base_uri": "https://localhost:8080/"
        },
        "id": "bAUmi2_n14cH",
        "outputId": "be679470-ebbf-40fe-d5b0-471a9f2ee40f"
      },
      "source": [
        "# Resolvamos la ecuacion.\n",
        "# La funcion ya ha sido definida como f_E\n",
        "E_1 = 0.0\n",
        "E_2 = 5.0\n",
        "# Reutilizaremos la tolerancia definida arriba como\n",
        "# tol = 1.0e-8\n",
        "\n",
        "sol3 = sec(f_E, E_1, E_2, tol)\n",
        "\n",
        "print(\"La solucion por el método de la Secante es E = \", sol3[0])"
      ],
      "execution_count": null,
      "outputs": [
        {
          "output_type": "stream",
          "text": [
            "La solucion por el método de la Secante es E =  1.0141790871646423\n"
          ],
          "name": "stdout"
        }
      ]
    },
    {
      "cell_type": "code",
      "metadata": {
        "colab": {
          "base_uri": "https://localhost:8080/"
        },
        "id": "OM9Ap1GY3SQS",
        "outputId": "d760dd9d-2839-4535-cc3d-0dd3484253d5"
      },
      "source": [
        "# Imprimamos los tres resultados juntos.\n",
        "print(\"La raíz hallada por cada método es:\")\n",
        "print(\"Bisección -> \", sol1[0])\n",
        "print(\"Newton    -> \", sol2)\n",
        "print(\"Secante   -> \", sol3[0])"
      ],
      "execution_count": null,
      "outputs": [
        {
          "output_type": "stream",
          "text": [
            "La raíz hallada por cada método es:\n",
            "Bisección ->  1.0141790891066194\n",
            "Newton    ->  1.0141790871647136\n",
            "Secante   ->  1.0141790871646423\n"
          ],
          "name": "stdout"
        }
      ]
    },
    {
      "cell_type": "markdown",
      "metadata": {
        "id": "rayK5gY84-qs"
      },
      "source": [
        "## **Gráfica.**"
      ]
    },
    {
      "cell_type": "code",
      "metadata": {
        "id": "bFnGuWnm3xHL"
      },
      "source": [
        "# Vamos a importar la biblioteca para graficar.\n",
        "import matplotlib.pyplot as plt"
      ],
      "execution_count": null,
      "outputs": []
    },
    {
      "cell_type": "code",
      "metadata": {
        "colab": {
          "base_uri": "https://localhost:8080/",
          "height": 285
        },
        "id": "se2NBqlD5Qna",
        "outputId": "8c2a2d2e-bff8-4c8a-dfff-b50344241d05"
      },
      "source": [
        "# Generemos el dominio de la funcion.\n",
        "x_i = np.linspace(-5.0, 5.0, 100)\n",
        "# Generemos la funcion en el dominio x_i.\n",
        "f_i = f_E(x_i)\n",
        "\n",
        "# Hagamos la grafica.\n",
        "plt.plot(x_i, f_i, label='f(E)') \n",
        "plt.axvline(0, color='k')     # eje y.\n",
        "plt.axhline(0, color='k')     # eje x.\n",
        "plt.axvline(1.014179, color='r', linestyle=\"--\", label='$E_r \\\\approx 1.014179$' ) # raiz de la funcion.\n",
        "\n",
        "plt.ylabel('$f(E)$', fontsize=15)\n",
        "plt.xlabel('$E$', fontsize=15 )\n",
        "\n",
        "plt.legend(loc = 'best', fontsize = 'x-large')\n",
        "plt.grid()\n",
        "plt.show()"
      ],
      "execution_count": null,
      "outputs": [
        {
          "output_type": "display_data",
          "data": {
            "image/png": "[encoded data removed]",
            "text/plain": [
              "<Figure size 432x288 with 1 Axes>"
            ]
          },
          "metadata": {
            "tags": [],
            "needs_background": "light"
          }
        }
      ]
    },
    {
      "cell_type": "code",
      "metadata": {
        "colab": {
          "base_uri": "https://localhost:8080/",
          "height": 285
        },
        "id": "Ulzv68155jv3",
        "outputId": "27bf2f75-a26f-4b29-e670-bb569c0874f6"
      },
      "source": [
        "# Grafiquemos las tres raices obtenidas por los distintos metodos.\n",
        "# Hagamos un zoom a la grafica anterior.\n",
        "\n",
        "# Hagamos la grafica.\n",
        "plt.plot(x_i, f_i, label='f(E)') \n",
        "plt.axvline(0, color='k')     # eje y.\n",
        "plt.axhline(0, color='k')     # eje x.\n",
        "plt.axvline(1.014179, color='r', linestyle=\"--\", label='$E_r \\\\approx 1.014179$' ) # raiz de la funcion.\n",
        "\n",
        "plt.scatter(sol1[0],f_E(sol1[0]), c='k', label='Bisección')\n",
        "plt.scatter(sol2,f_E(sol2), marker='s',  label='Newton')\n",
        "plt.scatter(sol3[0],f_E(sol3[0]), marker='d', label='Secante')\n",
        "\n",
        "plt.ylabel('$f(E)$', fontsize=15)\n",
        "plt.xlabel('$E$', fontsize=15 )\n",
        "\n",
        "plt.xlim(0.9,1.15)\n",
        "plt.ylim(-0.25,0.25)\n",
        "\n",
        "plt.legend(loc = 'best', fontsize = 'x-large')\n",
        "plt.grid()\n",
        "plt.show()"
      ],
      "execution_count": null,
      "outputs": [
        {
          "output_type": "display_data",
          "data": {
            "image/png": "[encoded data removed]",
            "text/plain": [
              "<Figure size 432x288 with 1 Axes>"
            ]
          },
          "metadata": {
            "tags": [],
            "needs_background": "light"
          }
        }
      ]
    },
    {
      "cell_type": "markdown",
      "metadata": {
        "id": "HgB8Zh7-7B2k"
      },
      "source": [
        "## b)\n"
      ]
    },
    {
      "cell_type": "markdown",
      "metadata": {
        "id": "6vRfJecv7MXn"
      },
      "source": [
        "Para este inciso consideramos una función general (distinta a la anterior) pues $M$ no es necesariamente igual que 1 ya que ahora depende del tiempo y otros parámetros de la forma\n",
        "$$M=\\frac{2\\pi (t-t_0)}{P}.$$\n",
        "\n",
        "La nueva función es \n",
        "$$f(E) = M + 0.0167\\sin(E) - E,$$\n",
        "donde tomamos la excentricidad como $e = 0.0167$ (la de la Tierra) pues el problema no dice que debamos cambiarla.\n",
        "\n",
        "Queremos hallar $E$, es decir, queremos resolver la ecuación\n",
        "$$f(E) = M + 0.0167\\sin(E) - E = 0,$$\n",
        "pero necesitamos conocer los valores de $M$. Sabemos que $t_0 = 0$ y $t = 100$ días, mientras que el periodo está dado por \n",
        "$$P=\\frac{2\\pi a^{3/2}}{(G(M_\\star+m))^{1/2}}.$$\n",
        "\n",
        "En el caso del planeta Tierra, sabemos que el periodo es de $P = 365$ días $ = 3.154\\times7 s$ pues es el tiempo que tarda en darle la vuelta al Sol. Calculémoslo por completez:"
      ]
    },
    {
      "cell_type": "code",
      "metadata": {
        "colab": {
          "base_uri": "https://localhost:8080/"
        },
        "id": "h-zrrHssBQAR",
        "outputId": "3ab820a4-cf19-4555-e55b-3a1e29969d72"
      },
      "source": [
        "a = 1.496e11  # Unidad astronomica en metros (m).\n",
        "G = 6.674e-11 # Constante de Gravitacion Universal en m^3/(kg*s^2), con s como segundos.\n",
        "M = 1.989e30  # Masa del Sol en kilogramos (kg).\n",
        "m = 5.972e24  # Masa de la Tierra en kg.\n",
        "\n",
        "Periodo = (2.*np.pi*pow(a,3/2))/np.sqrt(G*(M+m))\n",
        "print(\"El periodo es \", format(Periodo,'.3E'), \"s\")"
      ],
      "execution_count": null,
      "outputs": [
        {
          "output_type": "stream",
          "text": [
            "El periodo es  3.155E+07 s\n"
          ],
          "name": "stdout"
        }
      ]
    },
    {
      "cell_type": "markdown",
      "metadata": {
        "id": "hVewTWlcDSjA"
      },
      "source": [
        "Este resultado coincide con lo mencionado anteriormente. Sin embargo, como el tiempo está dado en días, por simplicidad usaremos $P = 365$ días. \n",
        "\n",
        "\n"
      ]
    },
    {
      "cell_type": "code",
      "metadata": {
        "id": "4lBYWDG6Er7D"
      },
      "source": [
        "# Periodo en dias.\n",
        "P = 365.0"
      ],
      "execution_count": null,
      "outputs": []
    },
    {
      "cell_type": "markdown",
      "metadata": {
        "id": "kuYvVmRBEs2I"
      },
      "source": [
        "Ahora sí podemos calcular $M$.\n",
        "\n",
        "Primero definamos el arreglo que contendrá nuestro \"tiempo\" desde cero hasta 100 días uniformemente distribuido por día. Esto es:\n"
      ]
    },
    {
      "cell_type": "code",
      "metadata": {
        "id": "F7U95LtqDyiK"
      },
      "source": [
        "t_i = np.linspace(0.0, 100.0, 100)"
      ],
      "execution_count": null,
      "outputs": []
    },
    {
      "cell_type": "markdown",
      "metadata": {
        "id": "blk1oOewEZFU"
      },
      "source": [
        "Definamos la función \"M_t\" para calcular $M$ en función del tiempo:"
      ]
    },
    {
      "cell_type": "code",
      "metadata": {
        "id": "5BMAayPyE4aN"
      },
      "source": [
        "def M_t(t):\n",
        "  return((2*np.pi*(t))/P)\n",
        "\n",
        "# Como t_0 = 0 no lo ponemos."
      ],
      "execution_count": null,
      "outputs": []
    },
    {
      "cell_type": "code",
      "metadata": {
        "id": "MyrqghRNI1mq"
      },
      "source": [
        "M_i = M_t(t_i)"
      ],
      "execution_count": null,
      "outputs": []
    },
    {
      "cell_type": "markdown",
      "metadata": {
        "id": "8Mt2tbuLF_Fg"
      },
      "source": [
        "Ahora, definamos la función de la que queremos obtener la raíz. Esta dependerá de dos parámetros: $M$ y $E$."
      ]
    },
    {
      "cell_type": "code",
      "metadata": {
        "id": "RG7AxzgTGPAg"
      },
      "source": [
        "def f_gral(M,x):\n",
        "  return(M + 0.0167*np.sin(x) - x)"
      ],
      "execution_count": null,
      "outputs": []
    },
    {
      "cell_type": "markdown",
      "metadata": {
        "id": "LVUdau67GkuC"
      },
      "source": [
        "En principio, estamos listos para hallar la raíz de nuestra función. Para esto, usaremos el **método de la secante**. Sin embargo, debemos tomar en cuenta que en el algoritmo definido en celdas arriba solo consideramos funciones que dependen de un único parámetro. Ahora, nuestra nueva función depende de dos parámetros. Para esto, modificaremos el algoritmo de la siguiente forma:"
      ]
    },
    {
      "cell_type": "code",
      "metadata": {
        "id": "K0uY0pfGHPdb"
      },
      "source": [
        "# Re definamos el algoritmo del metodo de la Secante.\n",
        "# f   - funcion de la cual queremos hallar su raiz.\n",
        "# M   - parámetro de la funcion.\n",
        "# x0  - punto 1 del dominio de la funcion.\n",
        "# x1  - punto 2 del dominio de la funcion.\n",
        "# eps - tolerancia.\n",
        "\n",
        "def sec2(f, M, x0, x1, eps): \n",
        "    import sys # biblioteca para poder usar el exit().\n",
        "    global x   # variable global arbitraria.\n",
        "    f_x0 = f(M,x0) # Aqui pasamos los parametros que necesita la funcion.\n",
        "    f_x1 = f(M,x1)\n",
        "    iteration_counter = 0 # variable auxiliar para while.\n",
        "\n",
        "    while abs(f_x1) > eps and iteration_counter < 50:\n",
        "        try:\n",
        "            denominator = float(f_x1 - f_x0)/(x1 - x0)\n",
        "            x = x1 - float(f_x1)/denominator\n",
        "        except ZeroDivisionError:    # condicion para no dividir entre cero.\n",
        "            print(\"Error! - 0 en el denominador para x = \", x)\n",
        "            sys.exit(1)     # Abort with error sale del ciclo (equiv C++ break)\n",
        "        x0 = x1\n",
        "        x1 = x\n",
        "        f_x0 = f_x1\n",
        "        f_x1 = f(M,x1)\n",
        "        iteration_counter += 1\n",
        "\n",
        "\n",
        "    if abs(f_x1) > eps:\n",
        "        iteration_counter = -1 # referencial\n",
        "    #return x, iteration_counter\n",
        "    return x"
      ],
      "execution_count": null,
      "outputs": []
    },
    {
      "cell_type": "markdown",
      "metadata": {
        "id": "P1hQ45C9HvoG"
      },
      "source": [
        "Para ver que nuestra modificación funciona, resolvamos el caso para $M=1$."
      ]
    },
    {
      "cell_type": "code",
      "metadata": {
        "colab": {
          "base_uri": "https://localhost:8080/"
        },
        "id": "vBwkhzTLH6ib",
        "outputId": "4edb5511-5fc8-4c08-f5ed-15a583503a36"
      },
      "source": [
        "prueba1 = sec2(f_gral, 1.0, 0.0, 5.0, 1.0e-8)\n",
        "\n",
        "print(\"La raiz para el caso M=1 de la función general es:\", prueba1)\n",
        "print(\"La raiz para la primer función es:                \", sol3[0])"
      ],
      "execution_count": null,
      "outputs": [
        {
          "output_type": "stream",
          "text": [
            "La raiz para el caso M=1 de la función general es: 1.0141790871646423\n",
            "La raiz para la primer función es:                 1.0141790871646423\n"
          ],
          "name": "stdout"
        }
      ]
    },
    {
      "cell_type": "markdown",
      "metadata": {
        "id": "NbGl1FfiJEc6"
      },
      "source": [
        "Vemos que ambas soluciones son iguales. Por lo tanto nuestra modificación al algoritmo sí funciona. Ahora sí, resolvamos la ecuación. Implementaremos un ciclo for para resolver la ecuación con los distintos valores de $M$ que obtuvimos a lo largo de los 100 días."
      ]
    },
    {
      "cell_type": "code",
      "metadata": {
        "id": "n4zIVajYJdq3"
      },
      "source": [
        "solu = np.zeros(len(M_i)) # Arreglo que guardara las soluciones.\n",
        "j = 0 # Iniciamos en cero el contador del for.\n",
        "for i in M_i:\n",
        "  solu[j] = sec2(f_gral, M_i[j],M_i[j] , M_i[j]+100, 1.0e-8) # Llamamos al metodo de la secante.\n",
        "  j += 1"
      ],
      "execution_count": null,
      "outputs": []
    },
    {
      "cell_type": "markdown",
      "metadata": {
        "id": "BL5oobR2Ly3O"
      },
      "source": [
        "Como sabemos, el **método de la secante** requiere de dos puntos. Si revisamos la celda anterior veremos que dichos puntos son M_i[j], es decir, el j-ésimo valor de M y este valor más cien. Hemos elegido estos puntos porque, cuando la excentricidad es pequeña (como en este caso), las cantidades $M$ y $E$ no son muy diferentes.\n",
        "\n",
        "Al comparar las raíces obtenidas con los valores de $M$ podemos hacer una comprobación visual rápida de que nuestro método funciona, como puede hacerse en las siguientes tres celdas."
      ]
    },
    {
      "cell_type": "code",
      "metadata": {
        "colab": {
          "base_uri": "https://localhost:8080/"
        },
        "id": "FInzlgiXJdlN",
        "outputId": "85f2d424-8ac9-4385-868a-42811dd22f87"
      },
      "source": [
        "solu"
      ],
      "execution_count": null,
      "outputs": [
        {
          "output_type": "execute_result",
          "data": {
            "text/plain": [
              "array([0.        , 0.01768338, 0.03536667, 0.05304978, 0.0707326 ,\n",
              "       0.08841504, 0.10609702, 0.12377844, 0.1414592 , 0.15913921,\n",
              "       0.17681838, 0.19449661, 0.21217382, 0.22984992, 0.2475248 ,\n",
              "       0.26519839, 0.28287059, 0.30054131, 0.31821045, 0.33587795,\n",
              "       0.35354369, 0.37120761, 0.3888696 , 0.40652959, 0.42418749,\n",
              "       0.44184321, 0.45949667, 0.47714779, 0.49479648, 0.51244267,\n",
              "       0.53008627, 0.5477272 , 0.56536539, 0.58300075, 0.60063322,\n",
              "       0.61826271, 0.63588915, 0.65351247, 0.6711326 , 0.68874946,\n",
              "       0.70636298, 0.72397309, 0.74157974, 0.75918284, 0.77678234,\n",
              "       0.79437817, 0.81197027, 0.82955858, 0.84714303, 0.86472357,\n",
              "       0.88230014, 0.89987268, 0.91744115, 0.93500548, 0.95256563,\n",
              "       0.97012153, 0.98767316, 1.00522045, 1.02276336, 1.04030185,\n",
              "       1.05783587, 1.07536538, 1.09289034, 1.11041071, 1.12792646,\n",
              "       1.14543754, 1.16294393, 1.1804456 , 1.1979425 , 1.21543461,\n",
              "       1.23292191, 1.25040436, 1.26788195, 1.28535464, 1.30282242,\n",
              "       1.32028526, 1.33774316, 1.35519608, 1.37264402, 1.39008695,\n",
              "       1.40752488, 1.42495778, 1.44238565, 1.45980848, 1.47722627,\n",
              "       1.49463901, 1.51204669, 1.52944931, 1.54684688, 1.5642394 ,\n",
              "       1.58162687, 1.59900929, 1.61638666, 1.63375902, 1.65112634,\n",
              "       1.66848866, 1.68584597, 1.70319829, 1.72054565, 1.73788804])"
            ]
          },
          "metadata": {
            "tags": []
          },
          "execution_count": 29
        }
      ]
    },
    {
      "cell_type": "code",
      "metadata": {
        "colab": {
          "base_uri": "https://localhost:8080/"
        },
        "id": "HzBMSKmfKdwE",
        "outputId": "4687846b-8b91-468b-fa44-463c27c1ca4a"
      },
      "source": [
        "M_i"
      ],
      "execution_count": null,
      "outputs": [
        {
          "output_type": "execute_result",
          "data": {
            "text/plain": [
              "array([0.        , 0.01738809, 0.03477617, 0.05216426, 0.06955235,\n",
              "       0.08694044, 0.10432852, 0.12171661, 0.1391047 , 0.15649278,\n",
              "       0.17388087, 0.19126896, 0.20865705, 0.22604513, 0.24343322,\n",
              "       0.26082131, 0.2782094 , 0.29559748, 0.31298557, 0.33037366,\n",
              "       0.34776174, 0.36514983, 0.38253792, 0.39992601, 0.41731409,\n",
              "       0.43470218, 0.45209027, 0.46947835, 0.48686644, 0.50425453,\n",
              "       0.52164262, 0.5390307 , 0.55641879, 0.57380688, 0.59119496,\n",
              "       0.60858305, 0.62597114, 0.64335923, 0.66074731, 0.6781354 ,\n",
              "       0.69552349, 0.71291157, 0.73029966, 0.74768775, 0.76507584,\n",
              "       0.78246392, 0.79985201, 0.8172401 , 0.83462819, 0.85201627,\n",
              "       0.86940436, 0.88679245, 0.90418053, 0.92156862, 0.93895671,\n",
              "       0.9563448 , 0.97373288, 0.99112097, 1.00850906, 1.02589714,\n",
              "       1.04328523, 1.06067332, 1.07806141, 1.09544949, 1.11283758,\n",
              "       1.13022567, 1.14761375, 1.16500184, 1.18238993, 1.19977802,\n",
              "       1.2171661 , 1.23455419, 1.25194228, 1.26933037, 1.28671845,\n",
              "       1.30410654, 1.32149463, 1.33888271, 1.3562708 , 1.37365889,\n",
              "       1.39104698, 1.40843506, 1.42582315, 1.44321124, 1.46059932,\n",
              "       1.47798741, 1.4953755 , 1.51276359, 1.53015167, 1.54753976,\n",
              "       1.56492785, 1.58231593, 1.59970402, 1.61709211, 1.6344802 ,\n",
              "       1.65186828, 1.66925637, 1.68664446, 1.70403254, 1.72142063])"
            ]
          },
          "metadata": {
            "tags": []
          },
          "execution_count": 30
        }
      ]
    },
    {
      "cell_type": "code",
      "metadata": {
        "colab": {
          "base_uri": "https://localhost:8080/"
        },
        "id": "-bKihkx8LXa_",
        "outputId": "82634986-2166-423c-a03b-aa8aa11b3bea"
      },
      "source": [
        "abs(M_i-solu)"
      ],
      "execution_count": null,
      "outputs": [
        {
          "output_type": "execute_result",
          "data": {
            "text/plain": [
              "array([0.        , 0.0002953 , 0.0005905 , 0.00088552, 0.00118025,\n",
              "       0.00147461, 0.0017685 , 0.00206183, 0.0023545 , 0.00264642,\n",
              "       0.0029375 , 0.00322765, 0.00351678, 0.00380478, 0.00409158,\n",
              "       0.00437708, 0.00466119, 0.00494382, 0.00522488, 0.00550429,\n",
              "       0.00578195, 0.00605778, 0.00633168, 0.00660358, 0.00687339,\n",
              "       0.00714103, 0.0074064 , 0.00766943, 0.00793004, 0.00818814,\n",
              "       0.00844365, 0.0086965 , 0.0089466 , 0.00919388, 0.00943826,\n",
              "       0.00967966, 0.00991801, 0.01015325, 0.01038528, 0.01061406,\n",
              "       0.01083949, 0.01106152, 0.01128008, 0.01149509, 0.0117065 ,\n",
              "       0.01191425, 0.01211826, 0.01231848, 0.01251484, 0.0127073 ,\n",
              "       0.01289578, 0.01308024, 0.01326062, 0.01343686, 0.01360892,\n",
              "       0.01377674, 0.01394027, 0.01409948, 0.0142543 , 0.0144047 ,\n",
              "       0.01455063, 0.01469206, 0.01482893, 0.01496122, 0.01508888,\n",
              "       0.01521188, 0.01533018, 0.01544375, 0.01555257, 0.0156566 ,\n",
              "       0.01575581, 0.01585017, 0.01593967, 0.01602427, 0.01610397,\n",
              "       0.01617872, 0.01624853, 0.01631336, 0.01637321, 0.01642806,\n",
              "       0.0164779 , 0.01652272, 0.0165625 , 0.01659725, 0.01662695,\n",
              "       0.01665159, 0.01667119, 0.01668573, 0.01669521, 0.01669964,\n",
              "       0.01669902, 0.01669335, 0.01668264, 0.01666691, 0.01664615,\n",
              "       0.01662037, 0.0165896 , 0.01655384, 0.0165131 , 0.01646741])"
            ]
          },
          "metadata": {
            "tags": []
          },
          "execution_count": 32
        }
      ]
    },
    {
      "cell_type": "markdown",
      "metadata": {
        "id": "d_psYnsWOr33"
      },
      "source": [
        "Ahora grafiquemos $E(t)$:"
      ]
    },
    {
      "cell_type": "code",
      "metadata": {
        "colab": {
          "base_uri": "https://localhost:8080/",
          "height": 288
        },
        "id": "w_5rdk6EOUE5",
        "outputId": "0ffedb95-d2a5-44f7-bf7b-5957bb80f8ce"
      },
      "source": [
        "# Hagamos la grafica.\n",
        "plt.plot(t_i, solu, label='E(t)') \n",
        "plt.axvline(0, color='k')     # eje y.\n",
        "plt.axhline(0, color='k')     # eje x.\n",
        "\n",
        "plt.ylabel('$E(t)$ [rad]', fontsize=15)\n",
        "plt.xlabel('$t$ [días]', fontsize=15 )\n",
        "\n",
        "plt.legend(loc = 'best', fontsize = 'x-large')\n",
        "plt.grid()\n",
        "plt.show()"
      ],
      "execution_count": null,
      "outputs": [
        {
          "output_type": "display_data",
          "data": {
            "image/png": "[encoded data removed]",
            "text/plain": [
              "<Figure size 432x288 with 1 Axes>"
            ]
          },
          "metadata": {
            "tags": [],
            "needs_background": "light"
          }
        }
      ]
    },
    {
      "cell_type": "markdown",
      "metadata": {
        "id": "GHGKKlbvPp2p"
      },
      "source": [
        "Como hemos dicho que, en nuestro caso, $M$ y $E$ toman valores similares, y que $M$ depende linealmente del tiempo, tiene sentido que $E$ tenga un comportamiento lineal."
      ]
    },
    {
      "cell_type": "markdown",
      "metadata": {
        "id": "-icsptPaQRWM"
      },
      "source": [
        "Ahora graficaremos $x(t)$ e $y(t)$, donde \n",
        "$$x=a\\cos(E-e),$$\n",
        "$$y=a\\sqrt{1-e^2}\\sin(E).$$\n"
      ]
    },
    {
      "cell_type": "code",
      "metadata": {
        "id": "7O7lgsR5PJF-"
      },
      "source": [
        "# Definamos las funciones para x e y.\n",
        "\n",
        "def x_E(x,y,z):\n",
        "  return(x*np.cos(y-z))\n",
        "\n",
        "def y_E(x,y,z):\n",
        "  return(x*np.sqrt(1-z**2)*np.sin(y))"
      ],
      "execution_count": null,
      "outputs": []
    },
    {
      "cell_type": "code",
      "metadata": {
        "id": "eyybHET9Rloj"
      },
      "source": [
        "x_i = x_E(1.0, solu, 0.0167)\n",
        "y_i = y_E(1.0, solu, 0.0167)"
      ],
      "execution_count": null,
      "outputs": []
    },
    {
      "cell_type": "code",
      "metadata": {
        "colab": {
          "base_uri": "https://localhost:8080/",
          "height": 287
        },
        "id": "gv-pgVVdR5Wv",
        "outputId": "f41389a4-9aa9-40a0-c7aa-b247c05bcd76"
      },
      "source": [
        "# Hagamos la grafica de x.\n",
        "plt.plot(t_i, x_i, label='x(t)') \n",
        "plt.axvline(0, color='k')     # eje y.\n",
        "plt.axhline(0, color='k')     # eje x.\n",
        "\n",
        "plt.ylabel('$x(t)$ [ua]', fontsize=15)\n",
        "plt.xlabel('$t$ [dias]', fontsize=15 )\n",
        "\n",
        "plt.legend(loc = 'best', fontsize = 'x-large')\n",
        "plt.grid()\n",
        "plt.show()"
      ],
      "execution_count": null,
      "outputs": [
        {
          "output_type": "display_data",
          "data": {
            "image/png": "[encoded data removed]",
            "text/plain": [
              "<Figure size 432x288 with 1 Axes>"
            ]
          },
          "metadata": {
            "tags": [],
            "needs_background": "light"
          }
        }
      ]
    },
    {
      "cell_type": "code",
      "metadata": {
        "colab": {
          "base_uri": "https://localhost:8080/",
          "height": 287
        },
        "id": "dhyp94C8S5O1",
        "outputId": "739c4bf8-8cf4-43c3-da08-153fc0d3cbbf"
      },
      "source": [
        "# Hagamos la grafica de y.\n",
        "plt.plot(t_i, y_i, label='y(t)') \n",
        "plt.axvline(0, color='k')     # eje y.\n",
        "plt.axhline(0, color='k')     # eje x.\n",
        "\n",
        "plt.ylabel('$y(t)$ [ua]', fontsize=15)\n",
        "plt.xlabel('$t$ [dias]', fontsize=15 )\n",
        "\n",
        "plt.legend(loc = 'best', fontsize = 'x-large')\n",
        "plt.grid()\n",
        "plt.show()"
      ],
      "execution_count": null,
      "outputs": [
        {
          "output_type": "display_data",
          "data": {
            "image/png": "[encoded data removed]",
            "text/plain": [
              "<Figure size 432x288 with 1 Axes>"
            ]
          },
          "metadata": {
            "tags": [],
            "needs_background": "light"
          }
        }
      ]
    },
    {
      "cell_type": "code",
      "metadata": {
        "colab": {
          "base_uri": "https://localhost:8080/",
          "height": 287
        },
        "id": "Jzn7WpVhTGCR",
        "outputId": "ad8189f8-87c7-4eb1-c623-c3279d919739"
      },
      "source": [
        "# Hagamos la grafica de x con y.\n",
        "plt.plot(x_i, y_i, label='Trayectoria') \n",
        "plt.axvline(0, color='k')     # eje y.\n",
        "plt.axhline(0, color='k')     # eje x.\n",
        "\n",
        "plt.ylabel('$y(t)$ [ua]', fontsize=15)\n",
        "plt.xlabel('$x(t)$ [ua]', fontsize=15 )\n",
        "\n",
        "plt.legend(loc = 'best', fontsize = 'x-large')\n",
        "plt.grid()\n",
        "plt.show()"
      ],
      "execution_count": null,
      "outputs": [
        {
          "output_type": "display_data",
          "data": {
            "image/png": "[encoded data removed]",
            "text/plain": [
              "<Figure size 432x288 with 1 Axes>"
            ]
          },
          "metadata": {
            "tags": [],
            "needs_background": "light"
          }
        }
      ]
    },
    {
      "cell_type": "markdown",
      "metadata": {
        "id": "40ON9qLtUmgo"
      },
      "source": [
        "En esta última celda hemos graficado $x(t)$ con $y(t)$ en unidades astronómicas. Vemos que esto corresponde a la trayectoria que describiría la Tierra alrededor del Sol en 100 días. Como es de esperarse, pues $e = 0.0167$, la trayectoria es una elipse."
      ]
    },
    {
      "cell_type": "markdown",
      "metadata": {
        "id": "Ta3s7r1yQP4C"
      },
      "source": []
    }
  ]
}