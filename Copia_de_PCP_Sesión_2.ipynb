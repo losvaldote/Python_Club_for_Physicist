{
  "nbformat": 4,
  "nbformat_minor": 0,
  "metadata": {
    "kernelspec": {
      "display_name": "Python 3",
      "language": "python",
      "name": "python3"
    },
    "language_info": {
      "codemirror_mode": {
        "name": "ipython",
        "version": 3
      },
      "file_extension": ".py",
      "mimetype": "text/x-python",
      "name": "python",
      "nbconvert_exporter": "python",
      "pygments_lexer": "ipython3",
      "version": "3.8.3"
    },
    "colab": {
      "provenance": [],
      "include_colab_link": true
    }
  },
  "cells": [
    {
      "cell_type": "markdown",
      "metadata": {
        "id": "view-in-github",
        "colab_type": "text"
      },
      "source": [
        "<a href=\"https://colab.research.google.com/github/losvaldote/Python_Club_for_Physicist/blob/main/Copia_de_PCP_Sesi%C3%B3n_2.ipynb\" target=\"_parent\"><img src=\"https://colab.research.google.com/assets/colab-badge.svg\" alt=\"Open In Colab\"/></a>"
      ]
    },
    {
      "cell_type": "markdown",
      "metadata": {
        "_uuid": "1752ce061957fd1ce93d2e4db9494b7b29da7935",
        "id": "4rI4z7kImaoJ"
      },
      "source": [
        "<center>\n",
        "<img src=\"https://habrastorage.org/webt/jq/gc/r5/jqgcr5azmatev6zvgufn8xftehy.png\">\n",
        "    \n",
        "##  II Escuela de Verano en Física Computacional\n",
        "\n",
        "Autores: [Neisser Pino R.](https://scholar.google.com.pe/citations?user=pAB28NEAAAAJ&hl=es), [Ricardo Quispe M.](https://github.com/RcrdPhysics).\\\n",
        "Institución: Universidad Nacional Mayor de San Marcos\\\n",
        "Correo: ricardo.quispe5@unmsm.edu.pe\n",
        "    \n",
        "Este material está sujeto a los términos y condiciones de la licencia [Creative Commons CC BY-NC-SA 4.0](https://creativecommons.org/licenses/by-nc-sa/4.0/). Se permite el uso gratuito para cualquier propósito no comercial.\n",
        "\n",
        "*También puede consultar la última versión de este notebook en nuestro [repositorio](https://github.com/PCPUNMSM) y los videos de clase [en nuestro canal de Youtube](https://www.youtube.com/channel/UCze8vzQLcplutz0nWDNjFCA).*\n",
        "    "
      ]
    },
    {
      "cell_type": "markdown",
      "metadata": {
        "_uuid": "9b690f2c8129ad9445c544337375b93246c26668",
        "id": "xk_jepAzmaoX"
      },
      "source": [
        "# <center> Sesión 2. Raíces de ecuaciones\n",
        "\n",
        "<img align=\"center\" src=\"https://sites.google.com/site/ittgmetodosnumericos/_/rsrc/1334897944964/home/unidad-2-raices-de-ecuaciones/Imagen2.png?height=320&width=286\"  width=45% />\n",
        "\n",
        "## Outline\n",
        "1. Ecuaciones lineales y no lineales\n",
        "2. Método de bisección\n",
        "3. Método de sustitución sucesiva\n",
        "4. Método de Newton"
      ]
    },
    {
      "cell_type": "markdown",
      "metadata": {
        "id": "dQhS4QuomaoZ"
      },
      "source": [
        "# Introducción"
      ]
    },
    {
      "cell_type": "markdown",
      "metadata": {
        "id": "9OiIUwHemaoa"
      },
      "source": [
        "El problema de hallar las raíces de una función consiste en:\n",
        "\n",
        "- Dada una función continua $f(x) \\in C[a,b]$ hallar los valores de x=r para los cuales se cumple:\n",
        "\n",
        "$$f(r)=0$$\n",
        "\n",
        "- El número x=r tal que se cumpla la f(r)=0 se conoce como la raíz de la ecuación f(x) o cero de la función f(x).\n",
        "\n",
        "- El problema de hallar las raíces de una ecuación es uno de los más importantes problemas computacionales."
      ]
    },
    {
      "cell_type": "markdown",
      "metadata": {
        "id": "dzGfiu0fmaoa"
      },
      "source": [
        "## 1. Ecuaciones lineales y no lineales"
      ]
    },
    {
      "cell_type": "markdown",
      "metadata": {
        "id": "EpnSwN8Pmaob"
      },
      "source": [
        "### Linealidad "
      ]
    },
    {
      "cell_type": "markdown",
      "metadata": {
        "id": "vDuzhXgFmaoc"
      },
      "source": [
        "Un sistema o ecuación es lineal si satisface a las propiedades de aditividad:\n",
        "\n",
        "$$f(x+y)=f(x)+f(y)$$\n",
        "\n",
        "y homogeneidad \n",
        "\n",
        "$$f(ax)=af(x)$$"
      ]
    },
    {
      "cell_type": "markdown",
      "metadata": {
        "id": "j29Ef9QyMtQU"
      },
      "source": [
        "En caso contrario el sistema es **no lineal.**\n",
        "\n",
        "Dicha de otra forma, ecuacion lineal es aquella que tiene la forma de un polinomio de primer grado, es decir las incógnitas no están elevadas a potencias ni multiplicadas entre sı. Ejemplo: $2x+3y=4$, $3x-5y+2z=1$\n",
        "\n",
        "Ejemplo de sistemas no lineales: $x^2+x-1=0$ o $x-sinx=0$"
      ]
    },
    {
      "cell_type": "markdown",
      "metadata": {
        "id": "6_2Rhf9nMtQU"
      },
      "source": [
        "### ¿Por qué usar métodos numéricos para hallar las raíces de una ecuación?\n",
        "\n",
        "- La solución de la ecuación $f(r)$ puede ser muy difícil dependiendo de la naturaleza de f(x). Si f(x) es un polinomio de grado mayor que 4 o bien no es polinomica, no hay ninguna formula conocida de solucion.\n",
        "- Salvo pocas excepciones, no es posible hallar expresiones analíticas para hallar las raíces como el caso de la ecuación cuadrática.\n",
        "$$x=\\frac{-b±\\sqrt{b^2-4ac}}{2a}$$\n",
        "\n",
        "- Necesidad de usar m ́etodos num ́ericos, que siempre permite dar soluci ́on, aunque con cierta aproximacion.\n",
        "\n",
        "- En la mayor ́ıa de los casos el problema se resuelve mediante metodos iterativos.\n",
        "\n",
        "- La idea fundamental consiste en una primera aproximacion de la raız, que luego hallar una secuencia de numeros que debe converger a la solucion"
      ]
    },
    {
      "cell_type": "markdown",
      "metadata": {
        "id": "OZXcZIdtMtQV"
      },
      "source": [
        "## 2. Método  de bisección"
      ]
    },
    {
      "cell_type": "markdown",
      "metadata": {
        "id": "H3l5chFcMtQV"
      },
      "source": [
        "Es el metodo mas elemental y antiguo para determinar las raıces de una ecuacion. Se basa en el siguiente teorema:\n",
        "\n",
        "**Teorema de Bolzano**\n",
        "\n",
        "> Si una función continua, $f(x)$, toma en los extremos del intervalo $[a,b]$ valores de signo opuesto. en tonces la función admite, al mensos, una raíz en dicho intervalo.\n",
        "\n",
        "Consiste en identificar el intervalo  $[a,b]$ tal que $f(a)f(b)< 0$. A partir de este punto se va reduciendo el intervalo sucesivamente hasta hacerlo tan pequeño como exija la precision.\n"
      ]
    },
    {
      "cell_type": "markdown",
      "metadata": {
        "id": "ADsV-s-nMtQV"
      },
      "source": [
        "Algoritmo:\n",
        "\n",
        "1. Definir la función y el intervalo.\n",
        "2. A continuación se verifica que ${\\displaystyle f(a)\\cdot f(b)<0}$.\n",
        "3. Se calcula el punto medio ${\\displaystyle m}$ del intervalo ${\\displaystyle [a,b]}$ y se evalúa ${\\displaystyle f(m)}$ si ese valor es igual a cero, ya hemos encontrado la raíz buscada.\n",
        "4. En caso de que no lo sea, verificamos si ${\\displaystyle f(m)}$ tiene signo opuesto con ${\\displaystyle f(a)}$ o con ${\\displaystyle f(b)}$.\n",
        "5. Se redefine el intervalo ${\\displaystyle [a,b]}$ como ${\\displaystyle [a,m]}$ o ${\\displaystyle [m,b]}$ según se haya determinado en cuál de estos intervalos ocurre un cambio de signo\n",
        "6. Con este nuevo intervalo se continúa sucesivamente encerrando la solución en un intervalo cada vez más pequeño, hasta alcanzar la precisión deseada"
      ]
    },
    {
      "cell_type": "code",
      "metadata": {
        "id": "nKfrQpbUMtQV"
      },
      "source": [
        "import numpy as np\n",
        " \n",
        "# tol=1.0e-8 (error)\n",
        "# Este metodo funciona con el margen de error porque el while va a funcionar \n",
        "# mientras la resta sea menor que el tol.\n",
        "# Si se usa el for sera con el numero de iteraciones.\n",
        "\n",
        "def biseccion(f, a, b, tol):\n",
        "    \n",
        "    if a > b:\n",
        "        raise ValueError(\"Intervalo mal definido.\")\n",
        "    if tol <= 0:\n",
        "        raise ValueError(\"La cota de error debe ser un número positivo.\")\n",
        "        \n",
        "    x = (a + b) / 2.0\n",
        "    i=1\n",
        "    while True: # Este va a funcionar mientras el if sea cierto\n",
        "        if b - a < tol:\n",
        "            i+=1\n",
        "            return(x,i)\n",
        "        # Utilizamos la función signo para evitar errores de precisión\n",
        "        elif np.sign(f(a)) * np.sign(f(x)) > 0: #+*- o +*+\n",
        "            i+=1 # para el contador\n",
        "            a = x\n",
        "        else:\n",
        "            i+=1\n",
        "            b = x\n",
        "        x = (a + b) / 2.0\n",
        "    return(x,i)"
      ],
      "execution_count": null,
      "outputs": []
    },
    {
      "cell_type": "code",
      "metadata": {
        "id": "em6uOG-uMtQW"
      },
      "source": [
        "tol=1.0e-8"
      ],
      "execution_count": null,
      "outputs": []
    },
    {
      "cell_type": "code",
      "metadata": {
        "id": "hhppcgFVMtQW",
        "colab": {
          "base_uri": "https://localhost:8080/"
        },
        "outputId": "15e8bd5e-fae9-4855-ba57-0718eaed63f1"
      },
      "source": [
        "biseccion(np.sin, -10,-6,tol)"
      ],
      "execution_count": null,
      "outputs": [
        {
          "output_type": "execute_result",
          "data": {
            "text/plain": [
              "(-9.424777958542109, 31)"
            ]
          },
          "metadata": {
            "tags": []
          },
          "execution_count": 4
        }
      ]
    },
    {
      "cell_type": "markdown",
      "metadata": {
        "id": "GRMhhMUYMtQX"
      },
      "source": [
        "Obtener la raíz de la siguiente función:\n",
        "$$f(x) = 2x^3 -8x-2$$"
      ]
    },
    {
      "cell_type": "code",
      "metadata": {
        "id": "yH6a64UsMtQX"
      },
      "source": [
        "def pol_3(x):\n",
        "    return(2*x**3-8*x-2)"
      ],
      "execution_count": null,
      "outputs": []
    },
    {
      "cell_type": "code",
      "metadata": {
        "id": "EznCeuj7MtQX",
        "colab": {
          "base_uri": "https://localhost:8080/"
        },
        "outputId": "1c6e09f2-9c4b-4ed1-c7f0-9ba2247efe63"
      },
      "source": [
        "biseccion(pol_3,-1,1, tol)"
      ],
      "execution_count": null,
      "outputs": [
        {
          "output_type": "execute_result",
          "data": {
            "text/plain": [
              "(-0.2541016899049282, 30)"
            ]
          },
          "metadata": {
            "tags": []
          },
          "execution_count": 7
        }
      ]
    },
    {
      "cell_type": "code",
      "metadata": {
        "id": "bzOAkgQ7MtQX",
        "colab": {
          "base_uri": "https://localhost:8080/"
        },
        "outputId": "0da79d35-47a0-408f-9633-873f33b2f4a3"
      },
      "source": [
        "pol_3(biseccion(pol_3,-1,1, tol)[0])"
      ],
      "execution_count": null,
      "outputs": [
        {
          "output_type": "execute_result",
          "data": {
            "text/plain": [
              "1.1722449233531052e-08"
            ]
          },
          "metadata": {
            "tags": []
          },
          "execution_count": 9
        }
      ]
    },
    {
      "cell_type": "code",
      "metadata": {
        "id": "9iIY2upgMtQY",
        "colab": {
          "base_uri": "https://localhost:8080/"
        },
        "outputId": "b8bd7529-8b2f-4718-da03-d5a4a4117df1"
      },
      "source": [
        "error= biseccion(pol_3,-1,1,tol)[1] # En realidad es el numero de iteracion para hallar la raiz\n",
        "error"
      ],
      "execution_count": null,
      "outputs": [
        {
          "output_type": "execute_result",
          "data": {
            "text/plain": [
              "30"
            ]
          },
          "metadata": {
            "tags": []
          },
          "execution_count": 14
        }
      ]
    },
    {
      "cell_type": "markdown",
      "metadata": {
        "id": "KFaCIefrMtQY"
      },
      "source": [
        "El método de bisección es menos eficiente que el método de Newton, pero es mucho más seguro para garantizar la convergencia. Si ${\\displaystyle f}$ es una función continua en el intervalo ${\\displaystyle [a,b]}$ y ${\\displaystyle f(a)f(b)<0}$, entonces este método converge a la raíz de ${\\displaystyle f}$. De hecho, una cota del error absoluto es:"
      ]
    },
    {
      "cell_type": "markdown",
      "metadata": {
        "id": "U9fjrs7jMtQY"
      },
      "source": [
        "$$l_n=\\frac{|b-a|}{2^n}$$"
      ]
    },
    {
      "cell_type": "code",
      "metadata": {
        "id": "nzG14ayLMtQY",
        "outputId": "7f5cc0bd-1af2-4ddd-dc49-8c4936ab821f"
      },
      "source": [
        "a = 1\n",
        "b = 3\n",
        "cota_err_abs=np.abs(b-a)/2**31\n",
        "cota_err_abs"
      ],
      "execution_count": null,
      "outputs": [
        {
          "output_type": "execute_result",
          "data": {
            "text/plain": [
              "4.656612873077393e-10"
            ]
          },
          "metadata": {
            "tags": []
          },
          "execution_count": 59
        }
      ]
    },
    {
      "cell_type": "markdown",
      "metadata": {
        "id": "UbhX0PQcMtQY"
      },
      "source": [
        "Como ${\\displaystyle r_{n}}$, que es la raíz n-ésima calculada, se encuentra siempre dentro del intervalo de búsqueda, tenemos entonces que:\n",
        "\n",
        "$$|r-r_n| \\leq \\frac{|b -a|}{2^n}$$\n",
        "\n",
        "Queda demostrado entonces, que si se cumplen las condiciones iniciales del problema, el método de bisección converge al menos, a una de las raíces que se encuentran en el intervalo señalado.\n",
        "\n",
        "La bisección converge linealmente, por lo cual es un poco lento. Sin embargo, se garantiza la convergencia si ${\\displaystyle f(a)}$ y ${\\displaystyle f(b)}$ tienen distinto signo."
      ]
    },
    {
      "cell_type": "code",
      "metadata": {
        "id": "ArO8l_AjMtQY",
        "outputId": "5ea5fab5-21e5-46b5-f846-4294e0926611"
      },
      "source": [
        "x1=np.linspace(-5,5,10)\n",
        "y1=pol_3(x1)\n",
        "plt.title('Método de bisección')\n",
        "plt.plot(x1,y1)\n",
        "plt.scatter(0,-0.2541016899049282, c='r')\n",
        "plt.hlines(0,-5,5,'g')\n",
        "plt.vlines(0,-200,200,'m')"
      ],
      "execution_count": null,
      "outputs": [
        {
          "output_type": "execute_result",
          "data": {
            "text/plain": [
              "<matplotlib.collections.LineCollection at 0x1f7a394ab80>"
            ]
          },
          "metadata": {
            "tags": []
          },
          "execution_count": 74
        },
        {
          "output_type": "display_data",
          "data": {
            "image/png": "[encoded data removed]",
            "text/plain": [
              "<Figure size 432x288 with 1 Axes>"
            ]
          },
          "metadata": {
            "tags": [],
            "needs_background": "light"
          }
        }
      ]
    },
    {
      "cell_type": "markdown",
      "metadata": {
        "id": "PC5LraWKm471"
      },
      "source": [
        "# 3. Método de Newton\n",
        "\n",
        "El método de Newton o método de Newton-Raphson linealiza la función a cada paso utilizando su derivada, que se debe proporcionar como argumento, para hallar la raíz de la ecuación en las proximidades de un punto inicial $x_{0}$. Este método puede no converger, pero si el punto inicial está lo suficientemente próximo a la raíz, la convergencia será muy rápida.\n",
        "\n",
        "- El método de recursión de Newton es muy efectivo y simple de\n",
        "implementar.\n",
        "-Pertenece a los métodos abiertos.\n",
        "-Conocido también como Newton-Rapson.\n",
        "-La función debe ser derivable en el intervalo que interesa-\n",
        "-Partiendo de un valor tentativo de la raíz, se va mejorando\n",
        "recursivamente aproximando el siguiente valor de la raíz como la\n",
        "intersección con el eje de $x$ la linea tangente en el punto anterior de $x$.\n",
        "-Consiste en elegir adecuadamente un valor de prueba $x_{0}$ de tal manera que $f(x_{0})$ sea no muy grande.\n",
        "-La tangente en el punto $x=x_{0}$ es $f^{'}(x_{0})$, y dela ecuación de la linea tangete que pasa por los puntos $(x_{0},f(x_{0}))$ y $(x_{1},f(x_{1})=0)$ se obtiene la siguiente aproximación\n",
        "\n",
        "\n",
        "$$x_{1}=x_{0}- \\frac{f(x_{0})}{f^{'}(x_{0})}$$\n",
        "\n",
        "-Este procedimiento se repite recursivamente hasta lograr la tolerancia especificada.\n",
        "\n",
        "$$x_{n+1}=x_{n}-\\frac{f(x_{n})}{f^{'}(x_{n})}$$\n",
        "\n",
        "Cuando la primera prueba $x_{0}$ es bastante cercana al valor verdadero, los valores sucesivos $x_{n}$ son cada vez más cercanos y tienden a un valor fijo.\n",
        "\n",
        "\n",
        "\n",
        "<img align=\"center\" src=\"https://qph.fs.quoracdn.net/main-qimg-b3ff8a5f14c4a4e7525533518dbcd7f0.webp\"  width=60% />"
      ]
    },
    {
      "cell_type": "code",
      "metadata": {
        "id": "_P4gQPommapa"
      },
      "source": [
        "def newton(f, df, x_0, maxiter=50, xtol=1.0e-6, ftol=1.0e-6):\n",
        "    \n",
        "    x = float(x_0)\n",
        "    for i in range(maxiter):\n",
        "        dx = -f(x) / df(x) # ¡Aquí se puede producir una división por cero!\n",
        "        # También x puede haber quedado fuera del dominio\n",
        "        x = x + dx\n",
        "        if abs(dx / x) < xtol and abs(f(x)) < ftol:\n",
        "            return x"
      ],
      "execution_count": null,
      "outputs": []
    },
    {
      "cell_type": "markdown",
      "metadata": {
        "id": "gRcvceh-umgZ"
      },
      "source": [
        "- El método garantiza como mínimo convergencia cuadrática.\n",
        "-Necesidad de calcular la derivada, complicaciones.\n",
        "-El punto de partida tiene que ser muy cercano a la raíz buscada.\n",
        "-Caso contrario puede no se podría la raíz."
      ]
    },
    {
      "cell_type": "markdown",
      "metadata": {
        "id": "O9dxhQbRPxs0"
      },
      "source": [
        "$$f(x)=sen(x^2)-x^3-1$$\n",
        "\n",
        "$$f'(x)=2xcos(x^2)-3x^2$$"
      ]
    },
    {
      "cell_type": "code",
      "metadata": {
        "id": "9PyEJPxwPYNm"
      },
      "source": [
        "def f(x):\n",
        "    return np.sin(x**2) - x**3 - 1\n",
        "\n",
        "# and its derivative    \n",
        "def fp(x):\n",
        "    return 2*x*np.cos(x**2) - 3*x**2 "
      ],
      "execution_count": null,
      "outputs": []
    },
    {
      "cell_type": "code",
      "metadata": {
        "colab": {
          "base_uri": "https://localhost:8080/"
        },
        "id": "9waHN_e2RJ0N",
        "outputId": "6c390992-a239-4c00-c6ef-de98ad27c18e"
      },
      "source": [
        "newton(f,fp,0.1)"
      ],
      "execution_count": null,
      "outputs": [
        {
          "output_type": "execute_result",
          "data": {
            "text/plain": [
              "-0.7649722604107942"
            ]
          },
          "metadata": {
            "tags": []
          },
          "execution_count": 57
        }
      ]
    },
    {
      "cell_type": "code",
      "metadata": {
        "id": "QmopAzJXQbON"
      },
      "source": [
        "import numpy as np\n",
        "import matplotlib.pyplot as plt"
      ],
      "execution_count": null,
      "outputs": []
    },
    {
      "cell_type": "code",
      "metadata": {
        "colab": {
          "base_uri": "https://localhost:8080/",
          "height": 282
        },
        "id": "C_a8ywyMQCZL",
        "outputId": "1ea749c4-7903-4b12-9f23-2dac64c79a6f"
      },
      "source": [
        "# for demo reasons:\n",
        "interval_left = -2\n",
        "interval_right = 2\n",
        "\n",
        "xvals = np.linspace(interval_left, interval_right, num=100)\n",
        "\n",
        "yvals = f(xvals)\n",
        "\n",
        "plt.plot(xvals,yvals)\n",
        "plt.scatter(0,newton(f,fp,0.1), c='r')"
      ],
      "execution_count": null,
      "outputs": [
        {
          "output_type": "execute_result",
          "data": {
            "text/plain": [
              "<matplotlib.collections.PathCollection at 0x7f5c21c1eeb8>"
            ]
          },
          "metadata": {
            "tags": []
          },
          "execution_count": 59
        },
        {
          "output_type": "display_data",
          "data": {
            "image/png": "[encoded data removed]",
            "text/plain": [
              "<Figure size 432x288 with 1 Axes>"
            ]
          },
          "metadata": {
            "tags": [],
            "needs_background": "light"
          }
        }
      ]
    },
    {
      "cell_type": "markdown",
      "metadata": {
        "id": "4b6HKjrTwL_o"
      },
      "source": [
        "# 3. Método de punto fijo\n",
        "\n",
        "Consiste en\n",
        "\n",
        "-Dada la función $f(x)$, se reordena para obtener expresión de $x$\n",
        "\n",
        "$$f(x)\\Leftrightarrow g(x)=x$$\n",
        "\n",
        "-Si se resuelve $g(x)$ se resuelve f(x)=0\n",
        "-Solución de $g(x)$ mediante\n",
        "\n",
        "$$x_{i+1}=g(x_{i})$$\n",
        "\n",
        "hasta que $x_{i+1}$ converge a $x_{i}$\n",
        "\n",
        "imagen*\n",
        "\n",
        "Ejemplo: Raíz de la función  $e^{-x}-x=0$\n",
        "\n",
        "imagen*\n",
        "\n",
        "Función $f(x)=x^{2}-2x-3=0$\n",
        "Las raíces son $(x_{1}=3,x_{2}=-1)$\n",
        "\n",
        "Se puede reescribir de 3 formas\n",
        "\n",
        "1) $x^{2}=2x+3 \\Rightarrow , g(x)=\\sqrt{2x+3}$\n",
        "\n",
        "2)$x(x-2)-3=0, \\Rightarrow g(x)=\\frac{3}{x-2}$\n",
        "\n",
        "3) $ 2x=x^{2}-3, \\Rightarrow g(x)=\\frac{x^{2}-3}{2} $\n",
        "\n",
        "¿Cual de los esquemas es mejor?\n",
        "\n"
      ]
    },
    {
      "cell_type": "code",
      "metadata": {
        "id": "zHLZSEFubfer"
      },
      "source": [
        "def puntofijo(gx,a,tol, itermax = 15):\n",
        "    i = 1 # iteración\n",
        "    b = gx(a)\n",
        "    tramo = abs(b-a)\n",
        "    while(tramo>=tol and i<=itermax ):\n",
        "        a = b\n",
        "        b = gx(a)\n",
        "        tramo = abs(b-a)\n",
        "        i = i + 1\n",
        "    respuesta = b\n",
        "    \n",
        "    # Validar respuesta\n",
        "    if (i>=itermax ):\n",
        "        respuesta = np.nan\n",
        "    return(respuesta)\n"
      ],
      "execution_count": null,
      "outputs": []
    },
    {
      "cell_type": "code",
      "metadata": {
        "colab": {
          "base_uri": "https://localhost:8080/"
        },
        "id": "5b-SeRBqbGu0",
        "outputId": "5f825679-9a31-4c84-9da7-91d94d39d51f"
      },
      "source": [
        "def f_x(x):\n",
        "  return(np.e**(-x)-x)\n",
        "def g_x(x):\n",
        "  return(np.e**(-x))\n",
        "\n",
        "##############################\n",
        "a = 0       # intervalo\n",
        "b = 1\n",
        "tolera = 0.001\n",
        "iteramax = 15  # itera máximo\n",
        "muestras = 51  # gráfico\n",
        "tramos = 50\n",
        "##############################\n",
        "\n",
        "# PROCEDIMIENTO\n",
        "respuesta = puntofijo(g_x,a,tolera)\n",
        "\n",
        "# SALIDA\n",
        "respuesta\n",
        "\n",
        "print('x_raiz:', respuesta)\n",
        "print('f:', f_x(respuesta))\n",
        "print('g:', g_x(respuesta))"
      ],
      "execution_count": null,
      "outputs": [
        {
          "output_type": "stream",
          "text": [
            "x_raiz: 0.5669089119214953\n",
            "f: 0.00036732025407437696\n",
            "g: 0.5672762321755697\n"
          ],
          "name": "stdout"
        }
      ]
    },
    {
      "cell_type": "code",
      "metadata": {
        "id": "U8n21C_DMtQZ",
        "colab": {
          "base_uri": "https://localhost:8080/",
          "height": 281
        },
        "outputId": "3e132575-c675-49b2-f0b5-20fcdada6cb3"
      },
      "source": [
        "# GRAFICA\n",
        "# calcula los puntos para fx y gx\n",
        "xi = np.linspace(a,b,muestras)\n",
        "fi = f_x(xi)\n",
        "gi = g_x(xi)\n",
        "yi = xi\n",
        "\n",
        "import matplotlib.pyplot as plt\n",
        "\n",
        "plt.plot(xi,fi, label='f(x)') # funcion original\n",
        "plt.plot(xi,gi, label='g(x)') # funcion punto fijo\n",
        "plt.plot(xi,yi, label='y=x')  # funcion identidad\n",
        "\n",
        "if (respuesta!= np.nan):      # np.nan -> no numero\n",
        "    plt.axvline(respuesta, color='r') # Esta es la linea vertical situada en la raiz.\n",
        "plt.axvline(0, color='k')     # eje y\n",
        "plt.axhline(0, color='k')     # eje x\n",
        "plt.title('Punto Fijo')\n",
        "plt.legend()\n",
        "plt.show()\n",
        "\n",
        "# La linea vertical roja sirve para mostrar que en el valor de la raiz\n",
        "# las funciones f y g coinciden cumpliendose asi el teorema."
      ],
      "execution_count": null,
      "outputs": [
        {
          "output_type": "display_data",
          "data": {
            "image/png": "[encoded data removed]",
            "text/plain": [
              "<Figure size 432x288 with 1 Axes>"
            ]
          },
          "metadata": {
            "tags": [],
            "needs_background": "light"
          }
        }
      ]
    },
    {
      "cell_type": "code",
      "metadata": {
        "colab": {
          "base_uri": "https://localhost:8080/",
          "height": 281
        },
        "id": "g6Img1ReMiXD",
        "outputId": "abda7bfc-4209-4640-8a2d-930e4545a82b"
      },
      "source": [
        "# GRAFICA\n",
        "# calcula los puntos para fx y gx\n",
        "xi = np.linspace(a,b,muestras)\n",
        "fi = f_x(xi)\n",
        "gi = g_x(xi)\n",
        "yi = xi\n",
        "\n",
        "import matplotlib.pyplot as plt\n",
        "\n",
        "plt.plot(xi,fi, label='f(x)') # funcion original\n",
        "#plt.plot(xi,gi, label='g(x)') # funcion punto fijo\n",
        "#plt.plot(xi,yi, label='y=x')  # funcion identidad\n",
        "\n",
        "# El siguiente if es para comprobar que la respuesta es un numero\n",
        "if (respuesta!= np.nan):      # np.nan -> no numero\n",
        "    plt.axvline(respuesta, color='r') # Esta es la linea vertical situada en la raiz.\n",
        "\n",
        "plt.scatter(respuesta, f_x(respuesta), color='g')\n",
        "plt.axvline(0, color='k')     # eje y\n",
        "plt.axhline(0, color='k')     # eje x\n",
        "\n",
        "plt.title('Punto Fijo')\n",
        "plt.legend()\n",
        "plt.grid()\n",
        "plt.show()\n",
        "\n",
        "# Newton necesita un punto inicial donde comenzar a buscar.\n",
        "# El metodo de la secante necesita 2 puntos."
      ],
      "execution_count": null,
      "outputs": [
        {
          "output_type": "display_data",
          "data": {
            "image/png": "[encoded data removed]",
            "text/plain": [
              "<Figure size 432x288 with 1 Axes>"
            ]
          },
          "metadata": {
            "tags": [],
            "needs_background": "light"
          }
        }
      ]
    },
    {
      "cell_type": "code",
      "metadata": {
        "id": "oCG6b-xNMtQa",
        "colab": {
          "base_uri": "https://localhost:8080/"
        },
        "outputId": "50c9e9d1-ec20-4f58-bf02-976e69e5782e"
      },
      "source": [
        "# Utilizando una librería\n",
        "import scipy.optimize as opt\n",
        "opt.fixed_point(g_x,a,xtol=0.001,maxiter=15)\n",
        "\n"
      ],
      "execution_count": null,
      "outputs": [
        {
          "output_type": "execute_result",
          "data": {
            "text/plain": [
              "array(0.56714329)"
            ]
          },
          "metadata": {
            "tags": []
          },
          "execution_count": 77
        }
      ]
    },
    {
      "cell_type": "markdown",
      "metadata": {
        "id": "WvnXzFmV7Ij4"
      },
      "source": [
        "#4- Método de la Secante\n",
        "\n",
        "La recta secante es una recta que corta a una circunferencia en dos puntos. Conforme estos puntos de corte se acercan, dicha recta se aproxima a un punto y, cuando solo existe un punto que toca la circunferencia, se le llama tangente.\n",
        "\n",
        "Dados los puntos de intersección A y B puede calcularse la ecuación de la recta secante empleando para saber la respuesta de ésta operación se emplea en matemáticas la ecuación de la recta que pasa por dos puntos.\n",
        "\n",
        "En análisis numérico el método de la secante es un método para encontrar los ceros de una función de forma iterativa. Uno de los objetivos de este método es eliminar el problema de la derivada de la función, ya que existen funciones que describen fenómenos físicos en la vida real, cuya derivada es muy compleja. El método de la secante es muy similar al de Newton con la diferencia principal que en este método de la secante no requiere de la segunda derivada.\n",
        "\n",
        "El método se basa en obtener la ecuación de la recta que pasa por los puntos $(x_{n−1})$, $f(x_{n−1}))$ y $(x_{n}, f(x_{n}))$. A dicha recta se le llama secante por cortar la gráfica de la función. Posteriormente se escoge como siguiente elemento de la relación de recurrencia, $x_{n+1}$, la intersección de la recta secante con el eje de abscisas obteniendo la fórmula.\n",
        "\n",
        "$$ y=\\frac{yA-yB}{xA-xB}x + \\frac{xAyB-xByA}{xA-xB}$$\n",
        "\n",
        "Este método, a diferencia del de bisección y regla falsa, casi nunca falla ya que solo requiere de 2 puntos al principio, y después el mismo método se va retroalimentando. Lo que hace básicamente es ir tirando rectas secantes a la curva de la ecuación que se tiene originalmente, y va checando la intersección de esas rectas con el eje de las $X$ para ver si es la raíz que se busca.\n",
        "\n",
        "El método de la secante parte de dos puntos (y no sólo uno como el método de Newton) y estima la tangente (es decir, la pendiente de la recta) por una aproximación de acuerdo con la expresión gráfica siguiente:\n",
        "\n",
        "imagen*\n",
        "\n",
        "En la siguiente iteración, emplearemos los puntosx1 yx2 para estimar un nuevo punto más próximo a la raíz de acuerdo con la ecuación de arriba. En la figura se representa geométricamente este método.\n",
        "\n",
        "En general, el método de la secante presenta las mismas ventajas y limitaciones que el método de Newton-Raphson.\n",
        "\n",
        "Forma de hacerlo:\n",
        "\n",
        "Primero hay que definir algunos conceptos como:\n",
        "\n",
        "$X_{n}$: es el valor actual de $X$\n",
        "\n",
        "$X_{n- 1}$: es el valor anterior de $X$\n",
        "\n",
        "$X_{n+1}$: es el valor siguiente de $X$\n",
        "\n",
        "Para simplificar la formula que se usa en este método se dirá que:\n",
        "\n",
        "$A=X_{n-1}$\n",
        "\n",
        "$B=X_{n+1}$\n",
        "\n",
        "$C=X_{n}$\n",
        "\n",
        "Como su nombre lo dice, este método va trazando rectas secantes a la curva original, y como después del primer paso no depende de otras cantidades sino que solito va usando las que ya se obtuvieron, casi nunca falla porque se va acomodando hasta que encuentra la raíz.\n",
        "\n",
        "El método se define por la relación de recurrencia:\n",
        "\n",
        "$$x_{n+1}=x_{n}-\\frac{x_{n}-x_{n-1}}{f(x_{n})-f(x_{n-1})}f(x_{n}) $$\n",
        "\n",
        "Como se puede ver, este método necesitará dos aproximaciones iniciales de la raíz para poder inducir una pendiente inicial."
      ]
    },
    {
      "cell_type": "code",
      "metadata": {
        "id": "c9zbzd4BikPt"
      },
      "source": [
        "# eps -> epsilon, es decir, la tolerancia.\n",
        "def secant(f, x0, x1, eps): \n",
        "    import sys # biblioteca para poder usar el exit()\n",
        "    global x   # variable global arbitraria\n",
        "    f_x0 = f(x0)\n",
        "    f_x1 = f(x1)\n",
        "    iteration_counter = 0 # variable auxiliar para while.\n",
        "\n",
        "    while abs(f_x1) > eps and iteration_counter < 50:\n",
        "        try:\n",
        "            denominator = float(f_x1 - f_x0)/(x1 - x0)\n",
        "            x = x1 - float(f_x1)/denominator\n",
        "        except ZeroDivisionError:    # condicion para no dividir entre cero.\n",
        "            print(\"Error! - 0 en el denominador para x = \", x)\n",
        "            sys.exit(1)     # Abort with error sale del ciclo (equiv C++ break)\n",
        "        x0 = x1\n",
        "        x1 = x\n",
        "        f_x0 = f_x1\n",
        "        f_x1 = f(x1)\n",
        "        iteration_counter += 1\n",
        "\n",
        "    # Here, either a solution is found, or too many iterations\n",
        "    if abs(f_x1) > eps:\n",
        "        iteration_counter = -1 #referencial\n",
        "    return x, iteration_counter"
      ],
      "execution_count": null,
      "outputs": []
    },
    {
      "cell_type": "code",
      "metadata": {
        "colab": {
          "base_uri": "https://localhost:8080/"
        },
        "id": "kJktzTQZYYON",
        "outputId": "b67e3603-a3f3-4e98-cac8-f4cc9361a514"
      },
      "source": [
        "secant(f,-1,0.5,1e-8)"
      ],
      "execution_count": null,
      "outputs": [
        {
          "output_type": "execute_result",
          "data": {
            "text/plain": [
              "(-0.7649722604105283, 12)"
            ]
          },
          "metadata": {
            "tags": []
          },
          "execution_count": 39
        }
      ]
    },
    {
      "cell_type": "code",
      "metadata": {
        "colab": {
          "base_uri": "https://localhost:8080/",
          "height": 265
        },
        "id": "SEs_wluJZlyb",
        "outputId": "509982ac-a051-4023-e6d3-70de06cff775"
      },
      "source": [
        " xvals=np.linspace(-1,1,100)\n",
        "plt.plot(xvals,f(xvals))\n",
        "\n",
        "plt.scatter(x,f(x)) # punto raiz\n",
        "plt.axvline(0, color='k')     # eje y\n",
        "plt.axhline(0, color='k')     # eje x\n",
        "plt.grid()"
      ],
      "execution_count": null,
      "outputs": [
        {
          "output_type": "display_data",
          "data": {
            "image/png": "[encoded data removed]",
            "text/plain": [
              "<Figure size 432x288 with 1 Axes>"
            ]
          },
          "metadata": {
            "tags": [],
            "needs_background": "light"
          }
        }
      ]
    },
    {
      "cell_type": "markdown",
      "metadata": {
        "id": "DFiBl_gCdVmc"
      },
      "source": [
        "## Ejercicio de aplicación"
      ]
    },
    {
      "cell_type": "markdown",
      "metadata": {
        "id": "1TyrcakouJ7-"
      },
      "source": [
        "$$-\\frac{\\hbar}{2m}\\frac{d^2u}{dx^2}+V(x)u(x)=Eu(x)$$"
      ]
    },
    {
      "cell_type": "markdown",
      "metadata": {
        "id": "sCQK3JJlujnj"
      },
      "source": [
        "$$ V(r)=   \\left\\{\n",
        "\\begin{array}{ll}\n",
        "      -V_0 & 0\\leq x < a \\\\\n",
        "      0 & x > a \\\\\n",
        "\\end{array} \n",
        "\\right.  $$\n",
        "\n"
      ]
    },
    {
      "cell_type": "markdown",
      "metadata": {
        "id": "OrynENkvd7Vs"
      },
      "source": [
        "$$f(E)=\\sqrt{2m(V_0-|E|)} cot\\left(\\sqrt{2ma^2(V_0-|E|)}/\\hbar\\right)\\sqrt{2m|E|}$$"
      ]
    },
    {
      "cell_type": "markdown",
      "metadata": {
        "id": "Msfpr4dYl3qU"
      },
      "source": [
        "Graficar $f(E) vs |E|$ en MeV.  $f(E)$ tiene dimensiones Mev.\n",
        "\n",
        "$V_0=20 MeV, \\quad a=2 fm, \\quad m=938 MeV$\n",
        "\n"
      ]
    },
    {
      "cell_type": "code",
      "metadata": {
        "id": "fIG6ube_mQmN"
      },
      "source": [
        " xvals2=np.linspace(0,5,100)"
      ],
      "execution_count": null,
      "outputs": []
    },
    {
      "cell_type": "code",
      "metadata": {
        "id": "qWeyo96OdYRF"
      },
      "source": [
        "def f_E(E,m=938,V0=20,a=2e-15,hbar=6.582e-10):\n",
        "  a1=np.sqrt(2*m*(V0-np.abs(E)))               # primer termino\n",
        "  arg=np.sqrt(2*m*a**2*(V0-np.abs(E)))/hbar    # argumento auxiliar\n",
        "  a2=1/np.tan(arg)                             # segundo termino\n",
        "  a3=np.sqrt(2*m*np.abs(E))                    # tercer termino\n",
        "  return(a1*a2*a3)"
      ],
      "execution_count": null,
      "outputs": []
    },
    {
      "cell_type": "code",
      "metadata": {
        "colab": {
          "base_uri": "https://localhost:8080/",
          "height": 293
        },
        "id": "Yd__zOKmgTot",
        "outputId": "9b9fba0f-4b1d-4c7a-8034-e14f8199e154"
      },
      "source": [
        "plt.plot(xvals2,f_E(xvals2))"
      ],
      "execution_count": null,
      "outputs": [
        {
          "output_type": "execute_result",
          "data": {
            "text/plain": [
              "[<matplotlib.lines.Line2D at 0x7f5c046ca400>]"
            ]
          },
          "metadata": {
            "tags": []
          },
          "execution_count": 265
        },
        {
          "output_type": "display_data",
          "data": {
            "image/png": "[encoded data removed]",
            "text/plain": [
              "<Figure size 432x288 with 1 Axes>"
            ]
          },
          "metadata": {
            "tags": [],
            "needs_background": "light"
          }
        }
      ]
    },
    {
      "cell_type": "code",
      "metadata": {
        "colab": {
          "base_uri": "https://localhost:8080/"
        },
        "id": "kD459aNjrsbq",
        "outputId": "eebee94a-5b8c-4e09-c50f-dd81ac16710e"
      },
      "source": [
        "biseccion(f_E,0.5,30,1e-6)"
      ],
      "execution_count": null,
      "outputs": [
        {
          "output_type": "stream",
          "text": [
            "/usr/local/lib/python3.6/dist-packages/ipykernel_launcher.py:2: RuntimeWarning: invalid value encountered in sqrt\n",
            "  \n",
            "/usr/local/lib/python3.6/dist-packages/ipykernel_launcher.py:3: RuntimeWarning: invalid value encountered in sqrt\n",
            "  This is separate from the ipykernel package so we can avoid doing imports until\n"
          ],
          "name": "stderr"
        },
        {
          "output_type": "execute_result",
          "data": {
            "text/plain": [
              "(20.000000201165676, 27)"
            ]
          },
          "metadata": {
            "tags": []
          },
          "execution_count": 266
        }
      ]
    },
    {
      "cell_type": "markdown",
      "metadata": {
        "id": "zECbSuYAr9mk"
      },
      "source": [
        "Vemos que la energía de enlace deuteron es: $|E|=20 MeV$"
      ]
    },
    {
      "cell_type": "markdown",
      "metadata": {
        "id": "2SP_b_p5xb17"
      },
      "source": [
        "## Sistemas de ecuaciones"
      ]
    },
    {
      "cell_type": "markdown",
      "metadata": {
        "id": "QEf1_CmNsrzQ"
      },
      "source": [
        "El método es definido a partir de x0, una estimación inicial de la solución, a, lista de las constantes, max_iter, número máximo de iteraciones y tol, error permitido.\n",
        "\n",
        "A partir de estos valores, por cada nueva iteración, construimos la matriz jacobiana A gracias al método jacobiano, y el vector B. Resolvemos el sistema lineal mediante el método definido en numpy, y obtenemos así una nueva estimación de la solución x1. Calculamos el error cometido en esta iteración y lo alojamos en e. Cuando se cumplan las condiciones del bucle while, devolvemos la solución de esa última iteración."
      ]
    },
    {
      "cell_type": "code",
      "metadata": {
        "colab": {
          "base_uri": "https://localhost:8080/"
        },
        "id": "HkLjMIPMtcgC",
        "outputId": "6eeb42ce-bee0-41b2-b461-a23dbb3d2ef1"
      },
      "source": [
        "import numpy\n",
        " \n",
        "# CLASE  \n",
        "class Senl: # sistema de ecuaciones no lineal.\n",
        "    '''\n",
        "    CLASE QUE DEFINE UN SISTEMA DE ECUACIONES NO LINEALES Y DIFERENTES \n",
        "    METODOS PARA HALLAR SU SOLUCION\n",
        "    '''\n",
        "    def __init__(self):\n",
        "        pass\n",
        "     \n",
        "    def newton(self,paso,numero):\n",
        "        return 0\n",
        "     \n",
        "    def llamada_funcion(self,x,a):\n",
        "        resultado=self.funcion(x,a)\n",
        "        return numpy.array(resultado)\n",
        "\n",
        "#df(x,y)/dx = [f(x+h,y) - f(x,y)]/h  h:tamanio de paso\n",
        "#########################################\n",
        "# JACOBIANO DEL SISTEMA \n",
        "\n",
        "    def jacobiano(self,x,a,tol=0.001):\n",
        "        res=[]                       # vector vacio\n",
        "        xtemp=numpy.array(x)         # variable auxiliar (iteracion)\n",
        "         \n",
        "        x1=xtemp.copy()              # copia del vector\n",
        "        for i in range(len(x1)):\n",
        "            x2=x1.copy()             # copia del vector temporal\n",
        "            x2[i]+=tol\n",
        "            r=(self.llamada_funcion(x2,a)-self.llamada_funcion(x1,a))/tol\n",
        "            res.append(r)             #se agregan los datos\n",
        "         \n",
        "        jac=numpy.array(res[0])\n",
        "        for i in range(len(res)-1):  # aqui se hace la matriz\n",
        "            jac=numpy.vstack((jac,numpy.array(res[i+1])))\n",
        "         \n",
        "        return jac.transpose()       # devuelve la transpuesta\n",
        "\n",
        " # ALGORITMO DE NEWTON\n",
        "\n",
        "    def solver_newton(self,x0,a,max_iter=50,tol=0.0001):\n",
        "        x1=numpy.array(x0)\n",
        "        e=1.0\n",
        "        iteracion=0\n",
        "         \n",
        "        while iteracion < max_iter and e > tol:\n",
        "            A=self.jacobiano(x1,a)\n",
        "            B=self.llamada_funcion(x1,a)\n",
        "\n",
        "            res=numpy.linalg.solve(A,B) # solucion numerica de un sistema lineal\n",
        "            x1=x1-res\n",
        "            e1=abs(res.max())\n",
        "            e2=abs(res.min())\n",
        "            e=max([e1,e2])\n",
        "            print (\"error: \", e)\n",
        "            print (\"Nº iteracion: \",iteracion)\n",
        "            iteracion+=1\n",
        "        return x1\n",
        "\n",
        "###  NOMBRAMIENTO DEL EJEMPLO \n",
        "\n",
        "if __name__ == '__main__':\n",
        "    def f(x,a):\n",
        "        r=[0.0]*2  # investigar que significa\n",
        "         \n",
        "        r[0]=x[0]*x[1]-a[0]\n",
        "        r[1]=x[0]+x[1]-a[1]\n",
        "         \n",
        "        return r\n",
        "\n",
        " # APLICACION \n",
        "         \n",
        "    def drag(x,a): #funcion\n",
        "        '''\n",
        "        FUNCION PARA DETERMINAR EL COEFICIENTE DE RODADURA DE UN COCHE\n",
        "        X[0] SERA EL COEFICIENTE DE RODADURA\n",
        "        A[0] SERA EL PRODUCTO DEL COEFICIENTE AERODINAMICO POR LA SUPERFICIE\n",
        "        FRONTAL\n",
        "        A[1] SERA LA VELOCIDAD MAXIMA DEL COCHE\n",
        "        A[2] SERA LA MASA DEL COCHE\n",
        "        A[3] SERA LA POTENCIA MAXIMA DEL COCHE\n",
        "        '''\n",
        "        r=[0.0]*2\n",
        "        rho=1.204\n",
        "         \n",
        "        r[0]=0.5*rho*a[0]*a[1]**3+x[0]*a[2]*9.81*a[1]-a[3]\n",
        "        r[1]=x[1]-x[0]\n",
        "        return r\n",
        "     \n",
        "    sistema=Senl()\n",
        "    sistema.funcion=drag\n",
        "     \n",
        "    print (sistema.solver_newton(x0=[1.0,0.0],a=[0.61,56.67,1340.0,90000.0]))"
      ],
      "execution_count": null,
      "outputs": [
        {
          "output_type": "stream",
          "text": [
            "error:  0.9689002297269909\n",
            "Nº iteracion:  0\n",
            "error:  1.9756776505407605e-13\n",
            "Nº iteracion:  1\n",
            "[0.03109977 0.03109977]\n"
          ],
          "name": "stdout"
        }
      ]
    },
    {
      "cell_type": "markdown",
      "metadata": {
        "id": "FL5W5_Wmws5g"
      },
      "source": [
        "## Conclusiones"
      ]
    },
    {
      "cell_type": "markdown",
      "metadata": {
        "id": "__bhN3_toDC2"
      },
      "source": [
        "El método de Bisección es el único método cerrado de los métodos que se van a analizar, los métodos cerrados se caracterizan porque necesita de al menos dos valores iniciales entre los cuales se encuentre la raíz. El método de Newton-Raphson necesita una aproximación inicial, el método de la Secante necesita dos puntos iniciales pero la raíz no necesita estar contenida entre esos puntos.\n",
        "\n",
        "Como se sabe, todos los métodos y las ecuaciones tanto matemáticas como computacionales tienen sus riesgos de fallar o de divergir. El método de Bisección es un poco inestable, tiene una lenta convergencia y un alto riesgo de divergencia, esto es debido al proceso en sí de bisectar y el error que puede existir en cada aproximación.\n",
        "\n",
        "En cuanto al método de Newton-Raphson, no tiene un criterio general de convergencia, en algunos casos debido a la naturaleza de la función utilizada diverge, y todo el método depende de la primera derivada de esa función. Para el método de Secante, hay varias inseguridades en cuanto a la primera aproximación de la raíz, que no sea suficientemente cercana, ni cuando es una raíz múltiple y como en el método de Newton-Raphson, dependiendo de la naturaleza de la función, el método puede diverger.\n",
        "\n",
        "**REQUISITOS PARA EL BUEN FUNCIONAMIENTO**\n",
        "\n",
        "Metodo de Biseccion\n",
        "La función debe ser continua, lineal, que cuente con mínimo una raíz y no se indetermine en ningún punto. El intervalo inicial  [a,b]  debe cumplir con la propiedad  $f(a)∗f(b)<0$ \n",
        "\n",
        "Metodo de Newton-Raphson \\\\\n",
        "La funcion debe ser al menos dos veces derivable, la segunda derivada debe ser continua con el mismo signo y la primera derivada diferente a cero.\n",
        "\n",
        "Metodo de la Secante \\\\\n",
        "Es necesario conocer los valores  $x_i$  y  $x_{i−1}$  para poder sacar el valor de  $x_{i+1}$ .\n",
        "Es necesario dar dos valores iniciales que no se encuentren afectados por asíntotas, puntos de inflexión, mínimos o máximos locales y pendientes que se aproximan a cero.\n",
        "\n",
        "**RIESGO**\n",
        "\n",
        "Metodo de Biseccion\n",
        "Comportamiento inestable, lenta convergencia y alto riesgo de divergencia\n",
        "\n",
        "Metodo de Newton-Raphson\n",
        "No tiene un criterio general de convergencia.\n",
        "Lenta convergencia en algunos casos debido a la naturaleza de la función. Depende de la primera derivada de la función en el punto.\n",
        "\n",
        "Metodo de la Secante\n",
        "No se asegura si la primera aproximación a la raíz no es lo suficientemente cercana a ella, ni cuando es raíz múltiple.\n",
        "\n",
        "**CONVERGENCIA**\n",
        "\n",
        "Metodo de Biseccion\n",
        "Lenta pero posible si las funciones respetan el criterio de continuidad, evitan la indeterminación y se siga la condición de  $f(a)∗f(b)<0$  en los intervalos\n",
        "\n",
        "Metodo de Newton-Raphson\n",
        "Lenta debido a la naturaleza de la función. Cuando un punto de inflexión  $f′′(x)=0$ , ocurre en la vecindad de una raíz, el método oscila alrededor de un mínimo o máximo local o se encuentran pendientes cercanas a cero.\n",
        "\n",
        "Metodo de la Secante\n",
        "Convergencia superlineal inferior a la del método de Newton-Raphson.\n",
        "\n",
        "**VENTAJA Y DESVENTAJA**\n",
        "\n",
        "Metodo de Biseccion\n",
        "V: Robusto y simple\n",
        "D: Convergencia lenta y comportamiento inestable\n",
        "\n",
        "Metodo de Newton-Raphson\n",
        "V: Eficiente en ecuaciones no lineales, converge rápidamente en las condiciones apropiadas y proporciona una buena precisión.\n",
        "D:No existe un criterio general de convergencia.Lenta convergencia dependiendo de la naturaleza de la función. Requiere conocer la primera derivada\n",
        "\n",
        "Metodo de la Secante\n",
        "V: Evita la complejidad de las derivadas, es independiente de los signos de la función.\n",
        "D: Menor velocidad que otros métodos. No se asegura la primera aproximación a la raíz.\n",
        "\n",
        "TOLERANCIA AL ERROR\n",
        "\n",
        "Metodo de Biseccion\n",
        "los errores disminuyen entre cada iteración, pero el error relativo porcentual verdadero es el más alto de los demás.\n",
        "$Er=\\frac{|x_f−x_o|}{2^n}$ \n",
        "\n",
        "Metodo de Newton-Raphson\n",
        "Error proporcional al cuadrado del error anterior.\n",
        "\n",
        "Metodo de la Secante\n",
        "los errores disminuyen entre cada iteración, pero el error relativo porcentual verdadero es el más alto de los demás.\n",
        "$Er=|x_f−x_o|≤\\epsilon$ \n",
        "\n",
        "TIPO DE RAICES\n",
        "\n",
        "Metodo de Biseccion\n",
        "Raices REALES\n",
        "\n",
        "Metodo de Newton-Raphson\n",
        "Raices REALES\n",
        "\n",
        "Metodo de la Secante\n",
        "Raices REALES\n",
        "\n",
        "CANTIDAD DE RAICES\n",
        "\n",
        "Metodo de Biseccion\n",
        "Una raiz\n",
        "\n",
        "Metodo de Newton-Raphson\n",
        "Una raiz\n",
        "\n",
        "Metodo de la Secante\n",
        "Una raiz"
      ]
    },
    {
      "cell_type": "markdown",
      "metadata": {
        "id": "8eCYYukCMtQm"
      },
      "source": [
        "## 5. Recursos útiles\n",
        "\n",
        "* [\"Método de Bisección\"](https://es.wikipedia.org/wiki/Método_de_bisección) - Wikipedia\n",
        "* [\"Punto fijo\"](http://blog.espol.edu.ec/analisisnumerico/2-4-1-punto-fijo-ejemplo01/)\n",
        "* [\"How to Think Like a Computer Scientist\"](https://nbviewer.jupyter.org/github/Yorko/mlcourse.ai/blob/master/jupyter_english/tutorials/merging_dataframes_tutorial_max_palko.ipynb) - Think Python Versión 2.0.17 by Allen Doney. (libro completo [aquí](https://www.greenteapress.com/thinkpython/thinkpython.pdf))\n",
        "* [scipy-lectures.org](http://www.scipy-lectures.org/index.html) — tutorials on pandas, numpy, matplotlib and scikit-learn \n",
        "\n",
        "\n",
        "## Donaciones\n",
        "<br>\n",
        "<center>\n",
        "Puedes donar una vez en el siguiente enlace (Ko-Fi):\n",
        "\n",
        "<br>\n",
        "    \n",
        "*Click en la imagen.*\n",
        "\n",
        "<a href=\"https://ko-fi.com/rcrdphysics\">\n",
        "<img src=\"https://habrastorage.org/webt/8r/ml/xf/8rmlxfpdzukegpxa62cxlfvgkqe.png\" width=20% />\n",
        "\n",
        "</center>"
      ]
    }
  ]
}